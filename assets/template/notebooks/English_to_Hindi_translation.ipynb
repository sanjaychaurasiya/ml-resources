{
  "cells": [
    {
      "cell_type": "markdown",
      "metadata": {
        "id": "7BUPFh-Eyn9X"
      },
      "source": [
        "# English to Hindi Translation Using IIT Bombay dataset."
      ]
    },
    {
      "cell_type": "markdown",
      "metadata": {
        "id": "VoGYTeTTywM6"
      },
      "source": [
        "### Importing the Libraries"
      ]
    },
    {
      "cell_type": "code",
      "execution_count": null,
      "metadata": {
        "id": "n4uBL50RuDwe"
      },
      "outputs": [],
      "source": [
        "# !pip install tensorflow==2.11"
      ]
    },
    {
      "cell_type": "code",
      "execution_count": null,
      "metadata": {
        "id": "AZoof7lEyiyB"
      },
      "outputs": [],
      "source": [
        "import numpy as np\n",
        "import pandas as pd\n",
        "import matplotlib.pyplot as plt\n",
        "import tensorflow as tf"
      ]
    },
    {
      "cell_type": "code",
      "execution_count": null,
      "metadata": {
        "colab": {
          "base_uri": "https://localhost:8080/",
          "height": 35
        },
        "id": "QZHg0dozt7zm",
        "outputId": "75c5ae39-6cfa-455d-915c-971821ab6ebe"
      },
      "outputs": [
        {
          "output_type": "execute_result",
          "data": {
            "text/plain": [
              "'2.13.0'"
            ],
            "application/vnd.google.colaboratory.intrinsic+json": {
              "type": "string"
            }
          },
          "metadata": {},
          "execution_count": 3
        }
      ],
      "source": [
        "tf.__version__"
      ]
    },
    {
      "cell_type": "markdown",
      "metadata": {
        "id": "X8nCR3Nry6o6"
      },
      "source": [
        "### Downloading the Dataset From Kaggle"
      ]
    },
    {
      "cell_type": "code",
      "execution_count": null,
      "metadata": {
        "colab": {
          "base_uri": "https://localhost:8080/",
          "height": 73
        },
        "id": "0oaCgmrdyuR3",
        "outputId": "d782bfe7-e730-4c06-c372-04b57d1f9dd2"
      },
      "outputs": [
        {
          "output_type": "display_data",
          "data": {
            "text/plain": [
              "<IPython.core.display.HTML object>"
            ],
            "text/html": [
              "\n",
              "     <input type=\"file\" id=\"files-be772673-1b39-441d-9aaa-d5cc449bf0ad\" name=\"files[]\" multiple disabled\n",
              "        style=\"border:none\" />\n",
              "     <output id=\"result-be772673-1b39-441d-9aaa-d5cc449bf0ad\">\n",
              "      Upload widget is only available when the cell has been executed in the\n",
              "      current browser session. Please rerun this cell to enable.\n",
              "      </output>\n",
              "      <script>// Copyright 2017 Google LLC\n",
              "//\n",
              "// Licensed under the Apache License, Version 2.0 (the \"License\");\n",
              "// you may not use this file except in compliance with the License.\n",
              "// You may obtain a copy of the License at\n",
              "//\n",
              "//      http://www.apache.org/licenses/LICENSE-2.0\n",
              "//\n",
              "// Unless required by applicable law or agreed to in writing, software\n",
              "// distributed under the License is distributed on an \"AS IS\" BASIS,\n",
              "// WITHOUT WARRANTIES OR CONDITIONS OF ANY KIND, either express or implied.\n",
              "// See the License for the specific language governing permissions and\n",
              "// limitations under the License.\n",
              "\n",
              "/**\n",
              " * @fileoverview Helpers for google.colab Python module.\n",
              " */\n",
              "(function(scope) {\n",
              "function span(text, styleAttributes = {}) {\n",
              "  const element = document.createElement('span');\n",
              "  element.textContent = text;\n",
              "  for (const key of Object.keys(styleAttributes)) {\n",
              "    element.style[key] = styleAttributes[key];\n",
              "  }\n",
              "  return element;\n",
              "}\n",
              "\n",
              "// Max number of bytes which will be uploaded at a time.\n",
              "const MAX_PAYLOAD_SIZE = 100 * 1024;\n",
              "\n",
              "function _uploadFiles(inputId, outputId) {\n",
              "  const steps = uploadFilesStep(inputId, outputId);\n",
              "  const outputElement = document.getElementById(outputId);\n",
              "  // Cache steps on the outputElement to make it available for the next call\n",
              "  // to uploadFilesContinue from Python.\n",
              "  outputElement.steps = steps;\n",
              "\n",
              "  return _uploadFilesContinue(outputId);\n",
              "}\n",
              "\n",
              "// This is roughly an async generator (not supported in the browser yet),\n",
              "// where there are multiple asynchronous steps and the Python side is going\n",
              "// to poll for completion of each step.\n",
              "// This uses a Promise to block the python side on completion of each step,\n",
              "// then passes the result of the previous step as the input to the next step.\n",
              "function _uploadFilesContinue(outputId) {\n",
              "  const outputElement = document.getElementById(outputId);\n",
              "  const steps = outputElement.steps;\n",
              "\n",
              "  const next = steps.next(outputElement.lastPromiseValue);\n",
              "  return Promise.resolve(next.value.promise).then((value) => {\n",
              "    // Cache the last promise value to make it available to the next\n",
              "    // step of the generator.\n",
              "    outputElement.lastPromiseValue = value;\n",
              "    return next.value.response;\n",
              "  });\n",
              "}\n",
              "\n",
              "/**\n",
              " * Generator function which is called between each async step of the upload\n",
              " * process.\n",
              " * @param {string} inputId Element ID of the input file picker element.\n",
              " * @param {string} outputId Element ID of the output display.\n",
              " * @return {!Iterable<!Object>} Iterable of next steps.\n",
              " */\n",
              "function* uploadFilesStep(inputId, outputId) {\n",
              "  const inputElement = document.getElementById(inputId);\n",
              "  inputElement.disabled = false;\n",
              "\n",
              "  const outputElement = document.getElementById(outputId);\n",
              "  outputElement.innerHTML = '';\n",
              "\n",
              "  const pickedPromise = new Promise((resolve) => {\n",
              "    inputElement.addEventListener('change', (e) => {\n",
              "      resolve(e.target.files);\n",
              "    });\n",
              "  });\n",
              "\n",
              "  const cancel = document.createElement('button');\n",
              "  inputElement.parentElement.appendChild(cancel);\n",
              "  cancel.textContent = 'Cancel upload';\n",
              "  const cancelPromise = new Promise((resolve) => {\n",
              "    cancel.onclick = () => {\n",
              "      resolve(null);\n",
              "    };\n",
              "  });\n",
              "\n",
              "  // Wait for the user to pick the files.\n",
              "  const files = yield {\n",
              "    promise: Promise.race([pickedPromise, cancelPromise]),\n",
              "    response: {\n",
              "      action: 'starting',\n",
              "    }\n",
              "  };\n",
              "\n",
              "  cancel.remove();\n",
              "\n",
              "  // Disable the input element since further picks are not allowed.\n",
              "  inputElement.disabled = true;\n",
              "\n",
              "  if (!files) {\n",
              "    return {\n",
              "      response: {\n",
              "        action: 'complete',\n",
              "      }\n",
              "    };\n",
              "  }\n",
              "\n",
              "  for (const file of files) {\n",
              "    const li = document.createElement('li');\n",
              "    li.append(span(file.name, {fontWeight: 'bold'}));\n",
              "    li.append(span(\n",
              "        `(${file.type || 'n/a'}) - ${file.size} bytes, ` +\n",
              "        `last modified: ${\n",
              "            file.lastModifiedDate ? file.lastModifiedDate.toLocaleDateString() :\n",
              "                                    'n/a'} - `));\n",
              "    const percent = span('0% done');\n",
              "    li.appendChild(percent);\n",
              "\n",
              "    outputElement.appendChild(li);\n",
              "\n",
              "    const fileDataPromise = new Promise((resolve) => {\n",
              "      const reader = new FileReader();\n",
              "      reader.onload = (e) => {\n",
              "        resolve(e.target.result);\n",
              "      };\n",
              "      reader.readAsArrayBuffer(file);\n",
              "    });\n",
              "    // Wait for the data to be ready.\n",
              "    let fileData = yield {\n",
              "      promise: fileDataPromise,\n",
              "      response: {\n",
              "        action: 'continue',\n",
              "      }\n",
              "    };\n",
              "\n",
              "    // Use a chunked sending to avoid message size limits. See b/62115660.\n",
              "    let position = 0;\n",
              "    do {\n",
              "      const length = Math.min(fileData.byteLength - position, MAX_PAYLOAD_SIZE);\n",
              "      const chunk = new Uint8Array(fileData, position, length);\n",
              "      position += length;\n",
              "\n",
              "      const base64 = btoa(String.fromCharCode.apply(null, chunk));\n",
              "      yield {\n",
              "        response: {\n",
              "          action: 'append',\n",
              "          file: file.name,\n",
              "          data: base64,\n",
              "        },\n",
              "      };\n",
              "\n",
              "      let percentDone = fileData.byteLength === 0 ?\n",
              "          100 :\n",
              "          Math.round((position / fileData.byteLength) * 100);\n",
              "      percent.textContent = `${percentDone}% done`;\n",
              "\n",
              "    } while (position < fileData.byteLength);\n",
              "  }\n",
              "\n",
              "  // All done.\n",
              "  yield {\n",
              "    response: {\n",
              "      action: 'complete',\n",
              "    }\n",
              "  };\n",
              "}\n",
              "\n",
              "scope.google = scope.google || {};\n",
              "scope.google.colab = scope.google.colab || {};\n",
              "scope.google.colab._files = {\n",
              "  _uploadFiles,\n",
              "  _uploadFilesContinue,\n",
              "};\n",
              "})(self);\n",
              "</script> "
            ]
          },
          "metadata": {}
        },
        {
          "output_type": "stream",
          "name": "stdout",
          "text": [
            "Saving kaggle.json to kaggle.json\n"
          ]
        }
      ],
      "source": [
        "!pip install -q kaggle\n",
        "from google.colab import files\n",
        "\n",
        "# Choose the kaggle.json file that you downloaded\n",
        "files.upload()\n",
        "\n",
        "# Make directory named kaggle and copy kaggle.json file there.\n",
        "!mkdir ~/.kaggle\n",
        "\n",
        "!cp kaggle.json ~/.kaggle/\n",
        "\n",
        "# Change the permissions of the file.\n",
        "!chmod 600 ~/.kaggle/kaggle.json\n",
        "\n",
        "\n",
        "# !kaggle datasets list"
      ]
    },
    {
      "cell_type": "code",
      "execution_count": null,
      "metadata": {
        "colab": {
          "base_uri": "https://localhost:8080/"
        },
        "id": "NwSSDci9zY0Q",
        "outputId": "1ed294ad-2c36-42bc-e75e-8195a21f376f"
      },
      "outputs": [
        {
          "output_type": "stream",
          "name": "stdout",
          "text": [
            "Downloading hindi-english-parallel-corpus.zip to /content\n",
            "100% 112M/112M [00:06<00:00, 23.0MB/s]\n",
            "100% 112M/112M [00:06<00:00, 18.1MB/s]\n"
          ]
        }
      ],
      "source": [
        "# Downloading the dataset\n",
        "!kaggle datasets download -d \"vaibhavkumar11/hindi-english-parallel-corpus\""
      ]
    },
    {
      "cell_type": "markdown",
      "metadata": {
        "id": "Gs8E_rUfzDTZ"
      },
      "source": [
        "### Unzipping the dataset"
      ]
    },
    {
      "cell_type": "code",
      "execution_count": null,
      "metadata": {
        "id": "nuCdGt8QzRfj"
      },
      "outputs": [],
      "source": [
        "import zipfile\n",
        "\n",
        "zip_ref = zipfile.ZipFile(\"/content/hindi-english-parallel-corpus.zip\")\n",
        "zip_ref.extractall()\n",
        "zip_ref.close()"
      ]
    },
    {
      "cell_type": "code",
      "execution_count": null,
      "metadata": {
        "id": "GsSxALgzztEY"
      },
      "outputs": [],
      "source": [
        "# Another way to extract data using cmd\n",
        "# !unzip \"/content/hindi-english-parallel-corpus.zip\""
      ]
    },
    {
      "cell_type": "markdown",
      "source": [
        "## Data Preprocessing"
      ],
      "metadata": {
        "id": "DCv-dM4OPQ6m"
      }
    },
    {
      "cell_type": "markdown",
      "metadata": {
        "id": "HLYFxURV0PTg"
      },
      "source": [
        "### Loading the Dataset"
      ]
    },
    {
      "cell_type": "code",
      "execution_count": null,
      "metadata": {
        "id": "Ja9CNyWwB2HC"
      },
      "outputs": [],
      "source": [
        "# Setting data directory path\n",
        "data_dir = \"/content/hindi_english_parallel.csv\""
      ]
    },
    {
      "cell_type": "code",
      "execution_count": null,
      "metadata": {
        "colab": {
          "base_uri": "https://localhost:8080/",
          "height": 206
        },
        "id": "VQOFjZ2xz0Vp",
        "outputId": "713b1358-023b-4b82-9585-d5a615367eb1"
      },
      "outputs": [
        {
          "output_type": "execute_result",
          "data": {
            "text/plain": [
              "                                               hindi  \\\n",
              "0    अपने अनुप्रयोग को पहुंचनीयता व्यायाम का लाभ दें   \n",
              "1                    एक्सेर्साइसर पहुंचनीयता अन्वेषक   \n",
              "2              निचले पटल के लिए डिफोल्ट प्लग-इन खाका   \n",
              "3               ऊपरी पटल के लिए डिफोल्ट प्लग-इन खाका   \n",
              "4  उन प्लग-इनों की सूची जिन्हें डिफोल्ट रूप से नि...   \n",
              "\n",
              "                                          english  \n",
              "0  Give your application an accessibility workout  \n",
              "1               Accerciser Accessibility Explorer  \n",
              "2  The default plugin layout for the bottom panel  \n",
              "3     The default plugin layout for the top panel  \n",
              "4  A list of plugins that are disabled by default  "
            ],
            "text/html": [
              "\n",
              "  <div id=\"df-e2c316b9-3641-4944-8959-18f9c6859cb9\" class=\"colab-df-container\">\n",
              "    <div>\n",
              "<style scoped>\n",
              "    .dataframe tbody tr th:only-of-type {\n",
              "        vertical-align: middle;\n",
              "    }\n",
              "\n",
              "    .dataframe tbody tr th {\n",
              "        vertical-align: top;\n",
              "    }\n",
              "\n",
              "    .dataframe thead th {\n",
              "        text-align: right;\n",
              "    }\n",
              "</style>\n",
              "<table border=\"1\" class=\"dataframe\">\n",
              "  <thead>\n",
              "    <tr style=\"text-align: right;\">\n",
              "      <th></th>\n",
              "      <th>hindi</th>\n",
              "      <th>english</th>\n",
              "    </tr>\n",
              "  </thead>\n",
              "  <tbody>\n",
              "    <tr>\n",
              "      <th>0</th>\n",
              "      <td>अपने अनुप्रयोग को पहुंचनीयता व्यायाम का लाभ दें</td>\n",
              "      <td>Give your application an accessibility workout</td>\n",
              "    </tr>\n",
              "    <tr>\n",
              "      <th>1</th>\n",
              "      <td>एक्सेर्साइसर पहुंचनीयता अन्वेषक</td>\n",
              "      <td>Accerciser Accessibility Explorer</td>\n",
              "    </tr>\n",
              "    <tr>\n",
              "      <th>2</th>\n",
              "      <td>निचले पटल के लिए डिफोल्ट प्लग-इन खाका</td>\n",
              "      <td>The default plugin layout for the bottom panel</td>\n",
              "    </tr>\n",
              "    <tr>\n",
              "      <th>3</th>\n",
              "      <td>ऊपरी पटल के लिए डिफोल्ट प्लग-इन खाका</td>\n",
              "      <td>The default plugin layout for the top panel</td>\n",
              "    </tr>\n",
              "    <tr>\n",
              "      <th>4</th>\n",
              "      <td>उन प्लग-इनों की सूची जिन्हें डिफोल्ट रूप से नि...</td>\n",
              "      <td>A list of plugins that are disabled by default</td>\n",
              "    </tr>\n",
              "  </tbody>\n",
              "</table>\n",
              "</div>\n",
              "    <div class=\"colab-df-buttons\">\n",
              "\n",
              "  <div class=\"colab-df-container\">\n",
              "    <button class=\"colab-df-convert\" onclick=\"convertToInteractive('df-e2c316b9-3641-4944-8959-18f9c6859cb9')\"\n",
              "            title=\"Convert this dataframe to an interactive table.\"\n",
              "            style=\"display:none;\">\n",
              "\n",
              "  <svg xmlns=\"http://www.w3.org/2000/svg\" height=\"24px\" viewBox=\"0 -960 960 960\">\n",
              "    <path d=\"M120-120v-720h720v720H120Zm60-500h600v-160H180v160Zm220 220h160v-160H400v160Zm0 220h160v-160H400v160ZM180-400h160v-160H180v160Zm440 0h160v-160H620v160ZM180-180h160v-160H180v160Zm440 0h160v-160H620v160Z\"/>\n",
              "  </svg>\n",
              "    </button>\n",
              "\n",
              "  <style>\n",
              "    .colab-df-container {\n",
              "      display:flex;\n",
              "      gap: 12px;\n",
              "    }\n",
              "\n",
              "    .colab-df-convert {\n",
              "      background-color: #E8F0FE;\n",
              "      border: none;\n",
              "      border-radius: 50%;\n",
              "      cursor: pointer;\n",
              "      display: none;\n",
              "      fill: #1967D2;\n",
              "      height: 32px;\n",
              "      padding: 0 0 0 0;\n",
              "      width: 32px;\n",
              "    }\n",
              "\n",
              "    .colab-df-convert:hover {\n",
              "      background-color: #E2EBFA;\n",
              "      box-shadow: 0px 1px 2px rgba(60, 64, 67, 0.3), 0px 1px 3px 1px rgba(60, 64, 67, 0.15);\n",
              "      fill: #174EA6;\n",
              "    }\n",
              "\n",
              "    .colab-df-buttons div {\n",
              "      margin-bottom: 4px;\n",
              "    }\n",
              "\n",
              "    [theme=dark] .colab-df-convert {\n",
              "      background-color: #3B4455;\n",
              "      fill: #D2E3FC;\n",
              "    }\n",
              "\n",
              "    [theme=dark] .colab-df-convert:hover {\n",
              "      background-color: #434B5C;\n",
              "      box-shadow: 0px 1px 3px 1px rgba(0, 0, 0, 0.15);\n",
              "      filter: drop-shadow(0px 1px 2px rgba(0, 0, 0, 0.3));\n",
              "      fill: #FFFFFF;\n",
              "    }\n",
              "  </style>\n",
              "\n",
              "    <script>\n",
              "      const buttonEl =\n",
              "        document.querySelector('#df-e2c316b9-3641-4944-8959-18f9c6859cb9 button.colab-df-convert');\n",
              "      buttonEl.style.display =\n",
              "        google.colab.kernel.accessAllowed ? 'block' : 'none';\n",
              "\n",
              "      async function convertToInteractive(key) {\n",
              "        const element = document.querySelector('#df-e2c316b9-3641-4944-8959-18f9c6859cb9');\n",
              "        const dataTable =\n",
              "          await google.colab.kernel.invokeFunction('convertToInteractive',\n",
              "                                                    [key], {});\n",
              "        if (!dataTable) return;\n",
              "\n",
              "        const docLinkHtml = 'Like what you see? Visit the ' +\n",
              "          '<a target=\"_blank\" href=https://colab.research.google.com/notebooks/data_table.ipynb>data table notebook</a>'\n",
              "          + ' to learn more about interactive tables.';\n",
              "        element.innerHTML = '';\n",
              "        dataTable['output_type'] = 'display_data';\n",
              "        await google.colab.output.renderOutput(dataTable, element);\n",
              "        const docLink = document.createElement('div');\n",
              "        docLink.innerHTML = docLinkHtml;\n",
              "        element.appendChild(docLink);\n",
              "      }\n",
              "    </script>\n",
              "  </div>\n",
              "\n",
              "\n",
              "<div id=\"df-fa6f276b-1ea5-427e-b0b9-caccf8ea28c6\">\n",
              "  <button class=\"colab-df-quickchart\" onclick=\"quickchart('df-fa6f276b-1ea5-427e-b0b9-caccf8ea28c6')\"\n",
              "            title=\"Suggest charts.\"\n",
              "            style=\"display:none;\">\n",
              "\n",
              "<svg xmlns=\"http://www.w3.org/2000/svg\" height=\"24px\"viewBox=\"0 0 24 24\"\n",
              "     width=\"24px\">\n",
              "    <g>\n",
              "        <path d=\"M19 3H5c-1.1 0-2 .9-2 2v14c0 1.1.9 2 2 2h14c1.1 0 2-.9 2-2V5c0-1.1-.9-2-2-2zM9 17H7v-7h2v7zm4 0h-2V7h2v10zm4 0h-2v-4h2v4z\"/>\n",
              "    </g>\n",
              "</svg>\n",
              "  </button>\n",
              "\n",
              "<style>\n",
              "  .colab-df-quickchart {\n",
              "      --bg-color: #E8F0FE;\n",
              "      --fill-color: #1967D2;\n",
              "      --hover-bg-color: #E2EBFA;\n",
              "      --hover-fill-color: #174EA6;\n",
              "      --disabled-fill-color: #AAA;\n",
              "      --disabled-bg-color: #DDD;\n",
              "  }\n",
              "\n",
              "  [theme=dark] .colab-df-quickchart {\n",
              "      --bg-color: #3B4455;\n",
              "      --fill-color: #D2E3FC;\n",
              "      --hover-bg-color: #434B5C;\n",
              "      --hover-fill-color: #FFFFFF;\n",
              "      --disabled-bg-color: #3B4455;\n",
              "      --disabled-fill-color: #666;\n",
              "  }\n",
              "\n",
              "  .colab-df-quickchart {\n",
              "    background-color: var(--bg-color);\n",
              "    border: none;\n",
              "    border-radius: 50%;\n",
              "    cursor: pointer;\n",
              "    display: none;\n",
              "    fill: var(--fill-color);\n",
              "    height: 32px;\n",
              "    padding: 0;\n",
              "    width: 32px;\n",
              "  }\n",
              "\n",
              "  .colab-df-quickchart:hover {\n",
              "    background-color: var(--hover-bg-color);\n",
              "    box-shadow: 0 1px 2px rgba(60, 64, 67, 0.3), 0 1px 3px 1px rgba(60, 64, 67, 0.15);\n",
              "    fill: var(--button-hover-fill-color);\n",
              "  }\n",
              "\n",
              "  .colab-df-quickchart-complete:disabled,\n",
              "  .colab-df-quickchart-complete:disabled:hover {\n",
              "    background-color: var(--disabled-bg-color);\n",
              "    fill: var(--disabled-fill-color);\n",
              "    box-shadow: none;\n",
              "  }\n",
              "\n",
              "  .colab-df-spinner {\n",
              "    border: 2px solid var(--fill-color);\n",
              "    border-color: transparent;\n",
              "    border-bottom-color: var(--fill-color);\n",
              "    animation:\n",
              "      spin 1s steps(1) infinite;\n",
              "  }\n",
              "\n",
              "  @keyframes spin {\n",
              "    0% {\n",
              "      border-color: transparent;\n",
              "      border-bottom-color: var(--fill-color);\n",
              "      border-left-color: var(--fill-color);\n",
              "    }\n",
              "    20% {\n",
              "      border-color: transparent;\n",
              "      border-left-color: var(--fill-color);\n",
              "      border-top-color: var(--fill-color);\n",
              "    }\n",
              "    30% {\n",
              "      border-color: transparent;\n",
              "      border-left-color: var(--fill-color);\n",
              "      border-top-color: var(--fill-color);\n",
              "      border-right-color: var(--fill-color);\n",
              "    }\n",
              "    40% {\n",
              "      border-color: transparent;\n",
              "      border-right-color: var(--fill-color);\n",
              "      border-top-color: var(--fill-color);\n",
              "    }\n",
              "    60% {\n",
              "      border-color: transparent;\n",
              "      border-right-color: var(--fill-color);\n",
              "    }\n",
              "    80% {\n",
              "      border-color: transparent;\n",
              "      border-right-color: var(--fill-color);\n",
              "      border-bottom-color: var(--fill-color);\n",
              "    }\n",
              "    90% {\n",
              "      border-color: transparent;\n",
              "      border-bottom-color: var(--fill-color);\n",
              "    }\n",
              "  }\n",
              "</style>\n",
              "\n",
              "  <script>\n",
              "    async function quickchart(key) {\n",
              "      const quickchartButtonEl =\n",
              "        document.querySelector('#' + key + ' button');\n",
              "      quickchartButtonEl.disabled = true;  // To prevent multiple clicks.\n",
              "      quickchartButtonEl.classList.add('colab-df-spinner');\n",
              "      try {\n",
              "        const charts = await google.colab.kernel.invokeFunction(\n",
              "            'suggestCharts', [key], {});\n",
              "      } catch (error) {\n",
              "        console.error('Error during call to suggestCharts:', error);\n",
              "      }\n",
              "      quickchartButtonEl.classList.remove('colab-df-spinner');\n",
              "      quickchartButtonEl.classList.add('colab-df-quickchart-complete');\n",
              "    }\n",
              "    (() => {\n",
              "      let quickchartButtonEl =\n",
              "        document.querySelector('#df-fa6f276b-1ea5-427e-b0b9-caccf8ea28c6 button');\n",
              "      quickchartButtonEl.style.display =\n",
              "        google.colab.kernel.accessAllowed ? 'block' : 'none';\n",
              "    })();\n",
              "  </script>\n",
              "</div>\n",
              "    </div>\n",
              "  </div>\n"
            ]
          },
          "metadata": {},
          "execution_count": 9
        }
      ],
      "source": [
        "dataset = pd.read_csv(data_dir)\n",
        "dataset.head()"
      ]
    },
    {
      "cell_type": "code",
      "execution_count": null,
      "metadata": {
        "colab": {
          "base_uri": "https://localhost:8080/",
          "height": 174
        },
        "id": "qOkCARRL0Y51",
        "outputId": "140ea09b-ca63-4360-9441-f15134a49cc8"
      },
      "outputs": [
        {
          "output_type": "execute_result",
          "data": {
            "text/plain": [
              "          hindi     english\n",
              "count   1555785     1561116\n",
              "unique   983939     1015945\n",
              "top        Name  Your names\n",
              "freq       1093         363"
            ],
            "text/html": [
              "\n",
              "  <div id=\"df-c1e206c9-a715-4342-84d6-3bb1cf31e54d\" class=\"colab-df-container\">\n",
              "    <div>\n",
              "<style scoped>\n",
              "    .dataframe tbody tr th:only-of-type {\n",
              "        vertical-align: middle;\n",
              "    }\n",
              "\n",
              "    .dataframe tbody tr th {\n",
              "        vertical-align: top;\n",
              "    }\n",
              "\n",
              "    .dataframe thead th {\n",
              "        text-align: right;\n",
              "    }\n",
              "</style>\n",
              "<table border=\"1\" class=\"dataframe\">\n",
              "  <thead>\n",
              "    <tr style=\"text-align: right;\">\n",
              "      <th></th>\n",
              "      <th>hindi</th>\n",
              "      <th>english</th>\n",
              "    </tr>\n",
              "  </thead>\n",
              "  <tbody>\n",
              "    <tr>\n",
              "      <th>count</th>\n",
              "      <td>1555785</td>\n",
              "      <td>1561116</td>\n",
              "    </tr>\n",
              "    <tr>\n",
              "      <th>unique</th>\n",
              "      <td>983939</td>\n",
              "      <td>1015945</td>\n",
              "    </tr>\n",
              "    <tr>\n",
              "      <th>top</th>\n",
              "      <td>Name</td>\n",
              "      <td>Your names</td>\n",
              "    </tr>\n",
              "    <tr>\n",
              "      <th>freq</th>\n",
              "      <td>1093</td>\n",
              "      <td>363</td>\n",
              "    </tr>\n",
              "  </tbody>\n",
              "</table>\n",
              "</div>\n",
              "    <div class=\"colab-df-buttons\">\n",
              "\n",
              "  <div class=\"colab-df-container\">\n",
              "    <button class=\"colab-df-convert\" onclick=\"convertToInteractive('df-c1e206c9-a715-4342-84d6-3bb1cf31e54d')\"\n",
              "            title=\"Convert this dataframe to an interactive table.\"\n",
              "            style=\"display:none;\">\n",
              "\n",
              "  <svg xmlns=\"http://www.w3.org/2000/svg\" height=\"24px\" viewBox=\"0 -960 960 960\">\n",
              "    <path d=\"M120-120v-720h720v720H120Zm60-500h600v-160H180v160Zm220 220h160v-160H400v160Zm0 220h160v-160H400v160ZM180-400h160v-160H180v160Zm440 0h160v-160H620v160ZM180-180h160v-160H180v160Zm440 0h160v-160H620v160Z\"/>\n",
              "  </svg>\n",
              "    </button>\n",
              "\n",
              "  <style>\n",
              "    .colab-df-container {\n",
              "      display:flex;\n",
              "      gap: 12px;\n",
              "    }\n",
              "\n",
              "    .colab-df-convert {\n",
              "      background-color: #E8F0FE;\n",
              "      border: none;\n",
              "      border-radius: 50%;\n",
              "      cursor: pointer;\n",
              "      display: none;\n",
              "      fill: #1967D2;\n",
              "      height: 32px;\n",
              "      padding: 0 0 0 0;\n",
              "      width: 32px;\n",
              "    }\n",
              "\n",
              "    .colab-df-convert:hover {\n",
              "      background-color: #E2EBFA;\n",
              "      box-shadow: 0px 1px 2px rgba(60, 64, 67, 0.3), 0px 1px 3px 1px rgba(60, 64, 67, 0.15);\n",
              "      fill: #174EA6;\n",
              "    }\n",
              "\n",
              "    .colab-df-buttons div {\n",
              "      margin-bottom: 4px;\n",
              "    }\n",
              "\n",
              "    [theme=dark] .colab-df-convert {\n",
              "      background-color: #3B4455;\n",
              "      fill: #D2E3FC;\n",
              "    }\n",
              "\n",
              "    [theme=dark] .colab-df-convert:hover {\n",
              "      background-color: #434B5C;\n",
              "      box-shadow: 0px 1px 3px 1px rgba(0, 0, 0, 0.15);\n",
              "      filter: drop-shadow(0px 1px 2px rgba(0, 0, 0, 0.3));\n",
              "      fill: #FFFFFF;\n",
              "    }\n",
              "  </style>\n",
              "\n",
              "    <script>\n",
              "      const buttonEl =\n",
              "        document.querySelector('#df-c1e206c9-a715-4342-84d6-3bb1cf31e54d button.colab-df-convert');\n",
              "      buttonEl.style.display =\n",
              "        google.colab.kernel.accessAllowed ? 'block' : 'none';\n",
              "\n",
              "      async function convertToInteractive(key) {\n",
              "        const element = document.querySelector('#df-c1e206c9-a715-4342-84d6-3bb1cf31e54d');\n",
              "        const dataTable =\n",
              "          await google.colab.kernel.invokeFunction('convertToInteractive',\n",
              "                                                    [key], {});\n",
              "        if (!dataTable) return;\n",
              "\n",
              "        const docLinkHtml = 'Like what you see? Visit the ' +\n",
              "          '<a target=\"_blank\" href=https://colab.research.google.com/notebooks/data_table.ipynb>data table notebook</a>'\n",
              "          + ' to learn more about interactive tables.';\n",
              "        element.innerHTML = '';\n",
              "        dataTable['output_type'] = 'display_data';\n",
              "        await google.colab.output.renderOutput(dataTable, element);\n",
              "        const docLink = document.createElement('div');\n",
              "        docLink.innerHTML = docLinkHtml;\n",
              "        element.appendChild(docLink);\n",
              "      }\n",
              "    </script>\n",
              "  </div>\n",
              "\n",
              "\n",
              "<div id=\"df-1563c8eb-49d2-40d7-9859-bf861da85180\">\n",
              "  <button class=\"colab-df-quickchart\" onclick=\"quickchart('df-1563c8eb-49d2-40d7-9859-bf861da85180')\"\n",
              "            title=\"Suggest charts.\"\n",
              "            style=\"display:none;\">\n",
              "\n",
              "<svg xmlns=\"http://www.w3.org/2000/svg\" height=\"24px\"viewBox=\"0 0 24 24\"\n",
              "     width=\"24px\">\n",
              "    <g>\n",
              "        <path d=\"M19 3H5c-1.1 0-2 .9-2 2v14c0 1.1.9 2 2 2h14c1.1 0 2-.9 2-2V5c0-1.1-.9-2-2-2zM9 17H7v-7h2v7zm4 0h-2V7h2v10zm4 0h-2v-4h2v4z\"/>\n",
              "    </g>\n",
              "</svg>\n",
              "  </button>\n",
              "\n",
              "<style>\n",
              "  .colab-df-quickchart {\n",
              "      --bg-color: #E8F0FE;\n",
              "      --fill-color: #1967D2;\n",
              "      --hover-bg-color: #E2EBFA;\n",
              "      --hover-fill-color: #174EA6;\n",
              "      --disabled-fill-color: #AAA;\n",
              "      --disabled-bg-color: #DDD;\n",
              "  }\n",
              "\n",
              "  [theme=dark] .colab-df-quickchart {\n",
              "      --bg-color: #3B4455;\n",
              "      --fill-color: #D2E3FC;\n",
              "      --hover-bg-color: #434B5C;\n",
              "      --hover-fill-color: #FFFFFF;\n",
              "      --disabled-bg-color: #3B4455;\n",
              "      --disabled-fill-color: #666;\n",
              "  }\n",
              "\n",
              "  .colab-df-quickchart {\n",
              "    background-color: var(--bg-color);\n",
              "    border: none;\n",
              "    border-radius: 50%;\n",
              "    cursor: pointer;\n",
              "    display: none;\n",
              "    fill: var(--fill-color);\n",
              "    height: 32px;\n",
              "    padding: 0;\n",
              "    width: 32px;\n",
              "  }\n",
              "\n",
              "  .colab-df-quickchart:hover {\n",
              "    background-color: var(--hover-bg-color);\n",
              "    box-shadow: 0 1px 2px rgba(60, 64, 67, 0.3), 0 1px 3px 1px rgba(60, 64, 67, 0.15);\n",
              "    fill: var(--button-hover-fill-color);\n",
              "  }\n",
              "\n",
              "  .colab-df-quickchart-complete:disabled,\n",
              "  .colab-df-quickchart-complete:disabled:hover {\n",
              "    background-color: var(--disabled-bg-color);\n",
              "    fill: var(--disabled-fill-color);\n",
              "    box-shadow: none;\n",
              "  }\n",
              "\n",
              "  .colab-df-spinner {\n",
              "    border: 2px solid var(--fill-color);\n",
              "    border-color: transparent;\n",
              "    border-bottom-color: var(--fill-color);\n",
              "    animation:\n",
              "      spin 1s steps(1) infinite;\n",
              "  }\n",
              "\n",
              "  @keyframes spin {\n",
              "    0% {\n",
              "      border-color: transparent;\n",
              "      border-bottom-color: var(--fill-color);\n",
              "      border-left-color: var(--fill-color);\n",
              "    }\n",
              "    20% {\n",
              "      border-color: transparent;\n",
              "      border-left-color: var(--fill-color);\n",
              "      border-top-color: var(--fill-color);\n",
              "    }\n",
              "    30% {\n",
              "      border-color: transparent;\n",
              "      border-left-color: var(--fill-color);\n",
              "      border-top-color: var(--fill-color);\n",
              "      border-right-color: var(--fill-color);\n",
              "    }\n",
              "    40% {\n",
              "      border-color: transparent;\n",
              "      border-right-color: var(--fill-color);\n",
              "      border-top-color: var(--fill-color);\n",
              "    }\n",
              "    60% {\n",
              "      border-color: transparent;\n",
              "      border-right-color: var(--fill-color);\n",
              "    }\n",
              "    80% {\n",
              "      border-color: transparent;\n",
              "      border-right-color: var(--fill-color);\n",
              "      border-bottom-color: var(--fill-color);\n",
              "    }\n",
              "    90% {\n",
              "      border-color: transparent;\n",
              "      border-bottom-color: var(--fill-color);\n",
              "    }\n",
              "  }\n",
              "</style>\n",
              "\n",
              "  <script>\n",
              "    async function quickchart(key) {\n",
              "      const quickchartButtonEl =\n",
              "        document.querySelector('#' + key + ' button');\n",
              "      quickchartButtonEl.disabled = true;  // To prevent multiple clicks.\n",
              "      quickchartButtonEl.classList.add('colab-df-spinner');\n",
              "      try {\n",
              "        const charts = await google.colab.kernel.invokeFunction(\n",
              "            'suggestCharts', [key], {});\n",
              "      } catch (error) {\n",
              "        console.error('Error during call to suggestCharts:', error);\n",
              "      }\n",
              "      quickchartButtonEl.classList.remove('colab-df-spinner');\n",
              "      quickchartButtonEl.classList.add('colab-df-quickchart-complete');\n",
              "    }\n",
              "    (() => {\n",
              "      let quickchartButtonEl =\n",
              "        document.querySelector('#df-1563c8eb-49d2-40d7-9859-bf861da85180 button');\n",
              "      quickchartButtonEl.style.display =\n",
              "        google.colab.kernel.accessAllowed ? 'block' : 'none';\n",
              "    })();\n",
              "  </script>\n",
              "</div>\n",
              "    </div>\n",
              "  </div>\n"
            ]
          },
          "metadata": {},
          "execution_count": 10
        }
      ],
      "source": [
        "dataset.describe()"
      ]
    },
    {
      "cell_type": "code",
      "execution_count": null,
      "metadata": {
        "colab": {
          "base_uri": "https://localhost:8080/"
        },
        "id": "uACwFHnq0iHe",
        "outputId": "84584003-05f9-4952-e468-08aa52bb6d46"
      },
      "outputs": [
        {
          "output_type": "stream",
          "name": "stdout",
          "text": [
            "<class 'pandas.core.frame.DataFrame'>\n",
            "RangeIndex: 1561841 entries, 0 to 1561840\n",
            "Data columns (total 2 columns):\n",
            " #   Column   Non-Null Count    Dtype \n",
            "---  ------   --------------    ----- \n",
            " 0   hindi    1555785 non-null  object\n",
            " 1   english  1561116 non-null  object\n",
            "dtypes: object(2)\n",
            "memory usage: 23.8+ MB\n"
          ]
        }
      ],
      "source": [
        "dataset.info()"
      ]
    },
    {
      "cell_type": "code",
      "execution_count": null,
      "metadata": {
        "colab": {
          "base_uri": "https://localhost:8080/"
        },
        "id": "T0f3rEvU0vyD",
        "outputId": "a19e9d3f-b1bd-470f-fb57-009c1aed5451"
      },
      "outputs": [
        {
          "output_type": "execute_result",
          "data": {
            "text/plain": [
              "True"
            ]
          },
          "metadata": {},
          "execution_count": 12
        }
      ],
      "source": [
        "# Checking for null values in the hindi column of the dataframe\n",
        "dataset[\"hindi\"].isnull().values.any()"
      ]
    },
    {
      "cell_type": "code",
      "execution_count": null,
      "metadata": {
        "colab": {
          "base_uri": "https://localhost:8080/"
        },
        "id": "YYizKxYy2LGj",
        "outputId": "399a898f-4b79-4ac5-f4c2-49f9144b2c75"
      },
      "outputs": [
        {
          "output_type": "execute_result",
          "data": {
            "text/plain": [
              "6056"
            ]
          },
          "metadata": {},
          "execution_count": 13
        }
      ],
      "source": [
        "# Counting the number of null values in the hindi column\n",
        "dataset.hindi.isnull().values.sum()"
      ]
    },
    {
      "cell_type": "code",
      "execution_count": null,
      "metadata": {
        "colab": {
          "base_uri": "https://localhost:8080/"
        },
        "id": "iQj41txY1d3K",
        "outputId": "15d57768-3112-4f2d-86d2-3ac4b52dc8c9"
      },
      "outputs": [
        {
          "output_type": "execute_result",
          "data": {
            "text/plain": [
              "True"
            ]
          },
          "metadata": {},
          "execution_count": 14
        }
      ],
      "source": [
        "# Checking for null values in the english column of the dataframe\n",
        "dataset.english.isnull().values.any()"
      ]
    },
    {
      "cell_type": "code",
      "execution_count": null,
      "metadata": {
        "colab": {
          "base_uri": "https://localhost:8080/"
        },
        "id": "2ihOPMvp2Gg6",
        "outputId": "ac7691b8-4ec3-41b4-f7b5-07d8c845f313"
      },
      "outputs": [
        {
          "output_type": "execute_result",
          "data": {
            "text/plain": [
              "725"
            ]
          },
          "metadata": {},
          "execution_count": 15
        }
      ],
      "source": [
        "# Counting the number of null values in the english column\n",
        "dataset.english.isnull().values.sum()"
      ]
    },
    {
      "cell_type": "code",
      "execution_count": null,
      "metadata": {
        "colab": {
          "base_uri": "https://localhost:8080/"
        },
        "id": "sISBxn7K2ZLy",
        "outputId": "be4d9864-dc24-4ec1-9e93-754a8d7e2d6a"
      },
      "outputs": [
        {
          "output_type": "execute_result",
          "data": {
            "text/plain": [
              "(True, 6781)"
            ]
          },
          "metadata": {},
          "execution_count": 16
        }
      ],
      "source": [
        "# Checking and counting null values in the dataframe\n",
        "dataset.isnull().values.any(), dataset.isnull().values.sum()"
      ]
    },
    {
      "cell_type": "markdown",
      "metadata": {
        "id": "f2S2LiHC26ob"
      },
      "source": [
        "In the case of `Language Translation` we can't perform `Imputation` as we do normally, link imputing the value by mean, median or most frequent, etc.\n",
        "\n",
        "In this case we are going to `remove the rows` having null values from both the columns."
      ]
    },
    {
      "cell_type": "markdown",
      "metadata": {
        "id": "WKbEGq-d7inU"
      },
      "source": [
        "### Dropping the null values from the dataset"
      ]
    },
    {
      "cell_type": "code",
      "execution_count": null,
      "metadata": {
        "colab": {
          "base_uri": "https://localhost:8080/",
          "height": 206
        },
        "id": "52DWyhKb2iNv",
        "outputId": "1ab5b204-1146-4856-d45d-ee9b4d8dd18f"
      },
      "outputs": [
        {
          "output_type": "execute_result",
          "data": {
            "text/plain": [
              "                                               hindi  \\\n",
              "0    अपने अनुप्रयोग को पहुंचनीयता व्यायाम का लाभ दें   \n",
              "1                    एक्सेर्साइसर पहुंचनीयता अन्वेषक   \n",
              "2              निचले पटल के लिए डिफोल्ट प्लग-इन खाका   \n",
              "3               ऊपरी पटल के लिए डिफोल्ट प्लग-इन खाका   \n",
              "4  उन प्लग-इनों की सूची जिन्हें डिफोल्ट रूप से नि...   \n",
              "\n",
              "                                          english  \n",
              "0  Give your application an accessibility workout  \n",
              "1               Accerciser Accessibility Explorer  \n",
              "2  The default plugin layout for the bottom panel  \n",
              "3     The default plugin layout for the top panel  \n",
              "4  A list of plugins that are disabled by default  "
            ],
            "text/html": [
              "\n",
              "  <div id=\"df-6c4e2925-5b3c-43c0-950b-0eee4597fae1\" class=\"colab-df-container\">\n",
              "    <div>\n",
              "<style scoped>\n",
              "    .dataframe tbody tr th:only-of-type {\n",
              "        vertical-align: middle;\n",
              "    }\n",
              "\n",
              "    .dataframe tbody tr th {\n",
              "        vertical-align: top;\n",
              "    }\n",
              "\n",
              "    .dataframe thead th {\n",
              "        text-align: right;\n",
              "    }\n",
              "</style>\n",
              "<table border=\"1\" class=\"dataframe\">\n",
              "  <thead>\n",
              "    <tr style=\"text-align: right;\">\n",
              "      <th></th>\n",
              "      <th>hindi</th>\n",
              "      <th>english</th>\n",
              "    </tr>\n",
              "  </thead>\n",
              "  <tbody>\n",
              "    <tr>\n",
              "      <th>0</th>\n",
              "      <td>अपने अनुप्रयोग को पहुंचनीयता व्यायाम का लाभ दें</td>\n",
              "      <td>Give your application an accessibility workout</td>\n",
              "    </tr>\n",
              "    <tr>\n",
              "      <th>1</th>\n",
              "      <td>एक्सेर्साइसर पहुंचनीयता अन्वेषक</td>\n",
              "      <td>Accerciser Accessibility Explorer</td>\n",
              "    </tr>\n",
              "    <tr>\n",
              "      <th>2</th>\n",
              "      <td>निचले पटल के लिए डिफोल्ट प्लग-इन खाका</td>\n",
              "      <td>The default plugin layout for the bottom panel</td>\n",
              "    </tr>\n",
              "    <tr>\n",
              "      <th>3</th>\n",
              "      <td>ऊपरी पटल के लिए डिफोल्ट प्लग-इन खाका</td>\n",
              "      <td>The default plugin layout for the top panel</td>\n",
              "    </tr>\n",
              "    <tr>\n",
              "      <th>4</th>\n",
              "      <td>उन प्लग-इनों की सूची जिन्हें डिफोल्ट रूप से नि...</td>\n",
              "      <td>A list of plugins that are disabled by default</td>\n",
              "    </tr>\n",
              "  </tbody>\n",
              "</table>\n",
              "</div>\n",
              "    <div class=\"colab-df-buttons\">\n",
              "\n",
              "  <div class=\"colab-df-container\">\n",
              "    <button class=\"colab-df-convert\" onclick=\"convertToInteractive('df-6c4e2925-5b3c-43c0-950b-0eee4597fae1')\"\n",
              "            title=\"Convert this dataframe to an interactive table.\"\n",
              "            style=\"display:none;\">\n",
              "\n",
              "  <svg xmlns=\"http://www.w3.org/2000/svg\" height=\"24px\" viewBox=\"0 -960 960 960\">\n",
              "    <path d=\"M120-120v-720h720v720H120Zm60-500h600v-160H180v160Zm220 220h160v-160H400v160Zm0 220h160v-160H400v160ZM180-400h160v-160H180v160Zm440 0h160v-160H620v160ZM180-180h160v-160H180v160Zm440 0h160v-160H620v160Z\"/>\n",
              "  </svg>\n",
              "    </button>\n",
              "\n",
              "  <style>\n",
              "    .colab-df-container {\n",
              "      display:flex;\n",
              "      gap: 12px;\n",
              "    }\n",
              "\n",
              "    .colab-df-convert {\n",
              "      background-color: #E8F0FE;\n",
              "      border: none;\n",
              "      border-radius: 50%;\n",
              "      cursor: pointer;\n",
              "      display: none;\n",
              "      fill: #1967D2;\n",
              "      height: 32px;\n",
              "      padding: 0 0 0 0;\n",
              "      width: 32px;\n",
              "    }\n",
              "\n",
              "    .colab-df-convert:hover {\n",
              "      background-color: #E2EBFA;\n",
              "      box-shadow: 0px 1px 2px rgba(60, 64, 67, 0.3), 0px 1px 3px 1px rgba(60, 64, 67, 0.15);\n",
              "      fill: #174EA6;\n",
              "    }\n",
              "\n",
              "    .colab-df-buttons div {\n",
              "      margin-bottom: 4px;\n",
              "    }\n",
              "\n",
              "    [theme=dark] .colab-df-convert {\n",
              "      background-color: #3B4455;\n",
              "      fill: #D2E3FC;\n",
              "    }\n",
              "\n",
              "    [theme=dark] .colab-df-convert:hover {\n",
              "      background-color: #434B5C;\n",
              "      box-shadow: 0px 1px 3px 1px rgba(0, 0, 0, 0.15);\n",
              "      filter: drop-shadow(0px 1px 2px rgba(0, 0, 0, 0.3));\n",
              "      fill: #FFFFFF;\n",
              "    }\n",
              "  </style>\n",
              "\n",
              "    <script>\n",
              "      const buttonEl =\n",
              "        document.querySelector('#df-6c4e2925-5b3c-43c0-950b-0eee4597fae1 button.colab-df-convert');\n",
              "      buttonEl.style.display =\n",
              "        google.colab.kernel.accessAllowed ? 'block' : 'none';\n",
              "\n",
              "      async function convertToInteractive(key) {\n",
              "        const element = document.querySelector('#df-6c4e2925-5b3c-43c0-950b-0eee4597fae1');\n",
              "        const dataTable =\n",
              "          await google.colab.kernel.invokeFunction('convertToInteractive',\n",
              "                                                    [key], {});\n",
              "        if (!dataTable) return;\n",
              "\n",
              "        const docLinkHtml = 'Like what you see? Visit the ' +\n",
              "          '<a target=\"_blank\" href=https://colab.research.google.com/notebooks/data_table.ipynb>data table notebook</a>'\n",
              "          + ' to learn more about interactive tables.';\n",
              "        element.innerHTML = '';\n",
              "        dataTable['output_type'] = 'display_data';\n",
              "        await google.colab.output.renderOutput(dataTable, element);\n",
              "        const docLink = document.createElement('div');\n",
              "        docLink.innerHTML = docLinkHtml;\n",
              "        element.appendChild(docLink);\n",
              "      }\n",
              "    </script>\n",
              "  </div>\n",
              "\n",
              "\n",
              "<div id=\"df-08d682dc-75ec-41a2-812a-8b2ebfcd8280\">\n",
              "  <button class=\"colab-df-quickchart\" onclick=\"quickchart('df-08d682dc-75ec-41a2-812a-8b2ebfcd8280')\"\n",
              "            title=\"Suggest charts.\"\n",
              "            style=\"display:none;\">\n",
              "\n",
              "<svg xmlns=\"http://www.w3.org/2000/svg\" height=\"24px\"viewBox=\"0 0 24 24\"\n",
              "     width=\"24px\">\n",
              "    <g>\n",
              "        <path d=\"M19 3H5c-1.1 0-2 .9-2 2v14c0 1.1.9 2 2 2h14c1.1 0 2-.9 2-2V5c0-1.1-.9-2-2-2zM9 17H7v-7h2v7zm4 0h-2V7h2v10zm4 0h-2v-4h2v4z\"/>\n",
              "    </g>\n",
              "</svg>\n",
              "  </button>\n",
              "\n",
              "<style>\n",
              "  .colab-df-quickchart {\n",
              "      --bg-color: #E8F0FE;\n",
              "      --fill-color: #1967D2;\n",
              "      --hover-bg-color: #E2EBFA;\n",
              "      --hover-fill-color: #174EA6;\n",
              "      --disabled-fill-color: #AAA;\n",
              "      --disabled-bg-color: #DDD;\n",
              "  }\n",
              "\n",
              "  [theme=dark] .colab-df-quickchart {\n",
              "      --bg-color: #3B4455;\n",
              "      --fill-color: #D2E3FC;\n",
              "      --hover-bg-color: #434B5C;\n",
              "      --hover-fill-color: #FFFFFF;\n",
              "      --disabled-bg-color: #3B4455;\n",
              "      --disabled-fill-color: #666;\n",
              "  }\n",
              "\n",
              "  .colab-df-quickchart {\n",
              "    background-color: var(--bg-color);\n",
              "    border: none;\n",
              "    border-radius: 50%;\n",
              "    cursor: pointer;\n",
              "    display: none;\n",
              "    fill: var(--fill-color);\n",
              "    height: 32px;\n",
              "    padding: 0;\n",
              "    width: 32px;\n",
              "  }\n",
              "\n",
              "  .colab-df-quickchart:hover {\n",
              "    background-color: var(--hover-bg-color);\n",
              "    box-shadow: 0 1px 2px rgba(60, 64, 67, 0.3), 0 1px 3px 1px rgba(60, 64, 67, 0.15);\n",
              "    fill: var(--button-hover-fill-color);\n",
              "  }\n",
              "\n",
              "  .colab-df-quickchart-complete:disabled,\n",
              "  .colab-df-quickchart-complete:disabled:hover {\n",
              "    background-color: var(--disabled-bg-color);\n",
              "    fill: var(--disabled-fill-color);\n",
              "    box-shadow: none;\n",
              "  }\n",
              "\n",
              "  .colab-df-spinner {\n",
              "    border: 2px solid var(--fill-color);\n",
              "    border-color: transparent;\n",
              "    border-bottom-color: var(--fill-color);\n",
              "    animation:\n",
              "      spin 1s steps(1) infinite;\n",
              "  }\n",
              "\n",
              "  @keyframes spin {\n",
              "    0% {\n",
              "      border-color: transparent;\n",
              "      border-bottom-color: var(--fill-color);\n",
              "      border-left-color: var(--fill-color);\n",
              "    }\n",
              "    20% {\n",
              "      border-color: transparent;\n",
              "      border-left-color: var(--fill-color);\n",
              "      border-top-color: var(--fill-color);\n",
              "    }\n",
              "    30% {\n",
              "      border-color: transparent;\n",
              "      border-left-color: var(--fill-color);\n",
              "      border-top-color: var(--fill-color);\n",
              "      border-right-color: var(--fill-color);\n",
              "    }\n",
              "    40% {\n",
              "      border-color: transparent;\n",
              "      border-right-color: var(--fill-color);\n",
              "      border-top-color: var(--fill-color);\n",
              "    }\n",
              "    60% {\n",
              "      border-color: transparent;\n",
              "      border-right-color: var(--fill-color);\n",
              "    }\n",
              "    80% {\n",
              "      border-color: transparent;\n",
              "      border-right-color: var(--fill-color);\n",
              "      border-bottom-color: var(--fill-color);\n",
              "    }\n",
              "    90% {\n",
              "      border-color: transparent;\n",
              "      border-bottom-color: var(--fill-color);\n",
              "    }\n",
              "  }\n",
              "</style>\n",
              "\n",
              "  <script>\n",
              "    async function quickchart(key) {\n",
              "      const quickchartButtonEl =\n",
              "        document.querySelector('#' + key + ' button');\n",
              "      quickchartButtonEl.disabled = true;  // To prevent multiple clicks.\n",
              "      quickchartButtonEl.classList.add('colab-df-spinner');\n",
              "      try {\n",
              "        const charts = await google.colab.kernel.invokeFunction(\n",
              "            'suggestCharts', [key], {});\n",
              "      } catch (error) {\n",
              "        console.error('Error during call to suggestCharts:', error);\n",
              "      }\n",
              "      quickchartButtonEl.classList.remove('colab-df-spinner');\n",
              "      quickchartButtonEl.classList.add('colab-df-quickchart-complete');\n",
              "    }\n",
              "    (() => {\n",
              "      let quickchartButtonEl =\n",
              "        document.querySelector('#df-08d682dc-75ec-41a2-812a-8b2ebfcd8280 button');\n",
              "      quickchartButtonEl.style.display =\n",
              "        google.colab.kernel.accessAllowed ? 'block' : 'none';\n",
              "    })();\n",
              "  </script>\n",
              "</div>\n",
              "    </div>\n",
              "  </div>\n"
            ]
          },
          "metadata": {},
          "execution_count": 17
        }
      ],
      "source": [
        "data = dataset.dropna()\n",
        "data.head()"
      ]
    },
    {
      "cell_type": "code",
      "execution_count": null,
      "metadata": {
        "colab": {
          "base_uri": "https://localhost:8080/"
        },
        "id": "S7iXC3LE3wWF",
        "outputId": "8e6d028f-6c63-4795-bb7a-c86707407201"
      },
      "outputs": [
        {
          "output_type": "stream",
          "name": "stdout",
          "text": [
            "<class 'pandas.core.frame.DataFrame'>\n",
            "Int64Index: 1555727 entries, 0 to 1561839\n",
            "Data columns (total 2 columns):\n",
            " #   Column   Non-Null Count    Dtype \n",
            "---  ------   --------------    ----- \n",
            " 0   hindi    1555727 non-null  object\n",
            " 1   english  1555727 non-null  object\n",
            "dtypes: object(2)\n",
            "memory usage: 35.6+ MB\n"
          ]
        }
      ],
      "source": [
        "data.info()"
      ]
    },
    {
      "cell_type": "code",
      "execution_count": null,
      "metadata": {
        "colab": {
          "base_uri": "https://localhost:8080/",
          "height": 174
        },
        "id": "_b6LrKb048vC",
        "outputId": "b0bbf92d-218f-4c89-8bf4-5f202931d919"
      },
      "outputs": [
        {
          "output_type": "execute_result",
          "data": {
            "text/plain": [
              "          hindi     english\n",
              "count   1555727     1555727\n",
              "unique   983909     1011562\n",
              "top        Name  Your names\n",
              "freq       1093         363"
            ],
            "text/html": [
              "\n",
              "  <div id=\"df-9bec0b50-cd1a-4832-97de-54d625d62f02\" class=\"colab-df-container\">\n",
              "    <div>\n",
              "<style scoped>\n",
              "    .dataframe tbody tr th:only-of-type {\n",
              "        vertical-align: middle;\n",
              "    }\n",
              "\n",
              "    .dataframe tbody tr th {\n",
              "        vertical-align: top;\n",
              "    }\n",
              "\n",
              "    .dataframe thead th {\n",
              "        text-align: right;\n",
              "    }\n",
              "</style>\n",
              "<table border=\"1\" class=\"dataframe\">\n",
              "  <thead>\n",
              "    <tr style=\"text-align: right;\">\n",
              "      <th></th>\n",
              "      <th>hindi</th>\n",
              "      <th>english</th>\n",
              "    </tr>\n",
              "  </thead>\n",
              "  <tbody>\n",
              "    <tr>\n",
              "      <th>count</th>\n",
              "      <td>1555727</td>\n",
              "      <td>1555727</td>\n",
              "    </tr>\n",
              "    <tr>\n",
              "      <th>unique</th>\n",
              "      <td>983909</td>\n",
              "      <td>1011562</td>\n",
              "    </tr>\n",
              "    <tr>\n",
              "      <th>top</th>\n",
              "      <td>Name</td>\n",
              "      <td>Your names</td>\n",
              "    </tr>\n",
              "    <tr>\n",
              "      <th>freq</th>\n",
              "      <td>1093</td>\n",
              "      <td>363</td>\n",
              "    </tr>\n",
              "  </tbody>\n",
              "</table>\n",
              "</div>\n",
              "    <div class=\"colab-df-buttons\">\n",
              "\n",
              "  <div class=\"colab-df-container\">\n",
              "    <button class=\"colab-df-convert\" onclick=\"convertToInteractive('df-9bec0b50-cd1a-4832-97de-54d625d62f02')\"\n",
              "            title=\"Convert this dataframe to an interactive table.\"\n",
              "            style=\"display:none;\">\n",
              "\n",
              "  <svg xmlns=\"http://www.w3.org/2000/svg\" height=\"24px\" viewBox=\"0 -960 960 960\">\n",
              "    <path d=\"M120-120v-720h720v720H120Zm60-500h600v-160H180v160Zm220 220h160v-160H400v160Zm0 220h160v-160H400v160ZM180-400h160v-160H180v160Zm440 0h160v-160H620v160ZM180-180h160v-160H180v160Zm440 0h160v-160H620v160Z\"/>\n",
              "  </svg>\n",
              "    </button>\n",
              "\n",
              "  <style>\n",
              "    .colab-df-container {\n",
              "      display:flex;\n",
              "      gap: 12px;\n",
              "    }\n",
              "\n",
              "    .colab-df-convert {\n",
              "      background-color: #E8F0FE;\n",
              "      border: none;\n",
              "      border-radius: 50%;\n",
              "      cursor: pointer;\n",
              "      display: none;\n",
              "      fill: #1967D2;\n",
              "      height: 32px;\n",
              "      padding: 0 0 0 0;\n",
              "      width: 32px;\n",
              "    }\n",
              "\n",
              "    .colab-df-convert:hover {\n",
              "      background-color: #E2EBFA;\n",
              "      box-shadow: 0px 1px 2px rgba(60, 64, 67, 0.3), 0px 1px 3px 1px rgba(60, 64, 67, 0.15);\n",
              "      fill: #174EA6;\n",
              "    }\n",
              "\n",
              "    .colab-df-buttons div {\n",
              "      margin-bottom: 4px;\n",
              "    }\n",
              "\n",
              "    [theme=dark] .colab-df-convert {\n",
              "      background-color: #3B4455;\n",
              "      fill: #D2E3FC;\n",
              "    }\n",
              "\n",
              "    [theme=dark] .colab-df-convert:hover {\n",
              "      background-color: #434B5C;\n",
              "      box-shadow: 0px 1px 3px 1px rgba(0, 0, 0, 0.15);\n",
              "      filter: drop-shadow(0px 1px 2px rgba(0, 0, 0, 0.3));\n",
              "      fill: #FFFFFF;\n",
              "    }\n",
              "  </style>\n",
              "\n",
              "    <script>\n",
              "      const buttonEl =\n",
              "        document.querySelector('#df-9bec0b50-cd1a-4832-97de-54d625d62f02 button.colab-df-convert');\n",
              "      buttonEl.style.display =\n",
              "        google.colab.kernel.accessAllowed ? 'block' : 'none';\n",
              "\n",
              "      async function convertToInteractive(key) {\n",
              "        const element = document.querySelector('#df-9bec0b50-cd1a-4832-97de-54d625d62f02');\n",
              "        const dataTable =\n",
              "          await google.colab.kernel.invokeFunction('convertToInteractive',\n",
              "                                                    [key], {});\n",
              "        if (!dataTable) return;\n",
              "\n",
              "        const docLinkHtml = 'Like what you see? Visit the ' +\n",
              "          '<a target=\"_blank\" href=https://colab.research.google.com/notebooks/data_table.ipynb>data table notebook</a>'\n",
              "          + ' to learn more about interactive tables.';\n",
              "        element.innerHTML = '';\n",
              "        dataTable['output_type'] = 'display_data';\n",
              "        await google.colab.output.renderOutput(dataTable, element);\n",
              "        const docLink = document.createElement('div');\n",
              "        docLink.innerHTML = docLinkHtml;\n",
              "        element.appendChild(docLink);\n",
              "      }\n",
              "    </script>\n",
              "  </div>\n",
              "\n",
              "\n",
              "<div id=\"df-875a44ac-580b-42c9-a803-22e9b14d0bd2\">\n",
              "  <button class=\"colab-df-quickchart\" onclick=\"quickchart('df-875a44ac-580b-42c9-a803-22e9b14d0bd2')\"\n",
              "            title=\"Suggest charts.\"\n",
              "            style=\"display:none;\">\n",
              "\n",
              "<svg xmlns=\"http://www.w3.org/2000/svg\" height=\"24px\"viewBox=\"0 0 24 24\"\n",
              "     width=\"24px\">\n",
              "    <g>\n",
              "        <path d=\"M19 3H5c-1.1 0-2 .9-2 2v14c0 1.1.9 2 2 2h14c1.1 0 2-.9 2-2V5c0-1.1-.9-2-2-2zM9 17H7v-7h2v7zm4 0h-2V7h2v10zm4 0h-2v-4h2v4z\"/>\n",
              "    </g>\n",
              "</svg>\n",
              "  </button>\n",
              "\n",
              "<style>\n",
              "  .colab-df-quickchart {\n",
              "      --bg-color: #E8F0FE;\n",
              "      --fill-color: #1967D2;\n",
              "      --hover-bg-color: #E2EBFA;\n",
              "      --hover-fill-color: #174EA6;\n",
              "      --disabled-fill-color: #AAA;\n",
              "      --disabled-bg-color: #DDD;\n",
              "  }\n",
              "\n",
              "  [theme=dark] .colab-df-quickchart {\n",
              "      --bg-color: #3B4455;\n",
              "      --fill-color: #D2E3FC;\n",
              "      --hover-bg-color: #434B5C;\n",
              "      --hover-fill-color: #FFFFFF;\n",
              "      --disabled-bg-color: #3B4455;\n",
              "      --disabled-fill-color: #666;\n",
              "  }\n",
              "\n",
              "  .colab-df-quickchart {\n",
              "    background-color: var(--bg-color);\n",
              "    border: none;\n",
              "    border-radius: 50%;\n",
              "    cursor: pointer;\n",
              "    display: none;\n",
              "    fill: var(--fill-color);\n",
              "    height: 32px;\n",
              "    padding: 0;\n",
              "    width: 32px;\n",
              "  }\n",
              "\n",
              "  .colab-df-quickchart:hover {\n",
              "    background-color: var(--hover-bg-color);\n",
              "    box-shadow: 0 1px 2px rgba(60, 64, 67, 0.3), 0 1px 3px 1px rgba(60, 64, 67, 0.15);\n",
              "    fill: var(--button-hover-fill-color);\n",
              "  }\n",
              "\n",
              "  .colab-df-quickchart-complete:disabled,\n",
              "  .colab-df-quickchart-complete:disabled:hover {\n",
              "    background-color: var(--disabled-bg-color);\n",
              "    fill: var(--disabled-fill-color);\n",
              "    box-shadow: none;\n",
              "  }\n",
              "\n",
              "  .colab-df-spinner {\n",
              "    border: 2px solid var(--fill-color);\n",
              "    border-color: transparent;\n",
              "    border-bottom-color: var(--fill-color);\n",
              "    animation:\n",
              "      spin 1s steps(1) infinite;\n",
              "  }\n",
              "\n",
              "  @keyframes spin {\n",
              "    0% {\n",
              "      border-color: transparent;\n",
              "      border-bottom-color: var(--fill-color);\n",
              "      border-left-color: var(--fill-color);\n",
              "    }\n",
              "    20% {\n",
              "      border-color: transparent;\n",
              "      border-left-color: var(--fill-color);\n",
              "      border-top-color: var(--fill-color);\n",
              "    }\n",
              "    30% {\n",
              "      border-color: transparent;\n",
              "      border-left-color: var(--fill-color);\n",
              "      border-top-color: var(--fill-color);\n",
              "      border-right-color: var(--fill-color);\n",
              "    }\n",
              "    40% {\n",
              "      border-color: transparent;\n",
              "      border-right-color: var(--fill-color);\n",
              "      border-top-color: var(--fill-color);\n",
              "    }\n",
              "    60% {\n",
              "      border-color: transparent;\n",
              "      border-right-color: var(--fill-color);\n",
              "    }\n",
              "    80% {\n",
              "      border-color: transparent;\n",
              "      border-right-color: var(--fill-color);\n",
              "      border-bottom-color: var(--fill-color);\n",
              "    }\n",
              "    90% {\n",
              "      border-color: transparent;\n",
              "      border-bottom-color: var(--fill-color);\n",
              "    }\n",
              "  }\n",
              "</style>\n",
              "\n",
              "  <script>\n",
              "    async function quickchart(key) {\n",
              "      const quickchartButtonEl =\n",
              "        document.querySelector('#' + key + ' button');\n",
              "      quickchartButtonEl.disabled = true;  // To prevent multiple clicks.\n",
              "      quickchartButtonEl.classList.add('colab-df-spinner');\n",
              "      try {\n",
              "        const charts = await google.colab.kernel.invokeFunction(\n",
              "            'suggestCharts', [key], {});\n",
              "      } catch (error) {\n",
              "        console.error('Error during call to suggestCharts:', error);\n",
              "      }\n",
              "      quickchartButtonEl.classList.remove('colab-df-spinner');\n",
              "      quickchartButtonEl.classList.add('colab-df-quickchart-complete');\n",
              "    }\n",
              "    (() => {\n",
              "      let quickchartButtonEl =\n",
              "        document.querySelector('#df-875a44ac-580b-42c9-a803-22e9b14d0bd2 button');\n",
              "      quickchartButtonEl.style.display =\n",
              "        google.colab.kernel.accessAllowed ? 'block' : 'none';\n",
              "    })();\n",
              "  </script>\n",
              "</div>\n",
              "    </div>\n",
              "  </div>\n"
            ]
          },
          "metadata": {},
          "execution_count": 19
        }
      ],
      "source": [
        "data.describe()"
      ]
    },
    {
      "cell_type": "code",
      "execution_count": null,
      "metadata": {
        "colab": {
          "base_uri": "https://localhost:8080/"
        },
        "id": "-gOzwMkY5WCu",
        "outputId": "00ad5405-2f36-406c-c15b-0016f6072b2e"
      },
      "outputs": [
        {
          "output_type": "execute_result",
          "data": {
            "text/plain": [
              "(1555727, 1555727)"
            ]
          },
          "metadata": {},
          "execution_count": 20
        }
      ],
      "source": [
        "# Checking the number of values in each columns\n",
        "len(data[\"hindi\"]), len(data[\"english\"])"
      ]
    },
    {
      "cell_type": "markdown",
      "metadata": {
        "id": "kiY7iLhP77-y"
      },
      "source": [
        "### Calculate the average number of words in the sentences"
      ]
    },
    {
      "cell_type": "code",
      "execution_count": null,
      "metadata": {
        "colab": {
          "base_uri": "https://localhost:8080/"
        },
        "id": "WA79Haoa769R",
        "outputId": "dd859f87-1777-4801-8ef0-b969d243d1d7"
      },
      "outputs": [
        {
          "output_type": "execute_result",
          "data": {
            "text/plain": [
              "13.751966765377215"
            ]
          },
          "metadata": {},
          "execution_count": 21
        }
      ],
      "source": [
        "num_words_in_hindi_sentences = [len(val.split()) for val in data[\"hindi\"]]\n",
        "\n",
        "average_words_in_hindi_sentences = sum(num_words_in_hindi_sentences) / len(data[\"hindi\"])\n",
        "average_words_in_hindi_sentences"
      ]
    },
    {
      "cell_type": "code",
      "execution_count": null,
      "metadata": {
        "colab": {
          "base_uri": "https://localhost:8080/"
        },
        "id": "3LVekxm0764S",
        "outputId": "f6a5c437-f358-400b-d785-b11b981e0627"
      },
      "outputs": [
        {
          "output_type": "execute_result",
          "data": {
            "text/plain": [
              "53.0"
            ]
          },
          "metadata": {},
          "execution_count": 22
        }
      ],
      "source": [
        "np.percentile(num_words_in_hindi_sentences, 97)"
      ]
    },
    {
      "cell_type": "code",
      "execution_count": null,
      "metadata": {
        "colab": {
          "base_uri": "https://localhost:8080/"
        },
        "id": "bSewGdDU76wZ",
        "outputId": "c1459e96-1fe9-4f9e-8b57-8d01effa7d18"
      },
      "outputs": [
        {
          "output_type": "execute_result",
          "data": {
            "text/plain": [
              "12.734555612906378"
            ]
          },
          "metadata": {},
          "execution_count": 23
        }
      ],
      "source": [
        "num_words_in_english_sentences = [len(val.split()) for val in data[\"english\"]]\n",
        "\n",
        "average_words_in_english_sentences = sum(num_words_in_english_sentences) / len(data[\"english\"])\n",
        "average_words_in_english_sentences"
      ]
    },
    {
      "cell_type": "code",
      "execution_count": null,
      "metadata": {
        "colab": {
          "base_uri": "https://localhost:8080/"
        },
        "id": "vvXYSew49gsK",
        "outputId": "560a6c8e-e7ff-40f1-92cd-a59bef3c80f4"
      },
      "outputs": [
        {
          "output_type": "execute_result",
          "data": {
            "text/plain": [
              "47.0"
            ]
          },
          "metadata": {},
          "execution_count": 24
        }
      ],
      "source": [
        "np.percentile(num_words_in_english_sentences, 97)"
      ]
    },
    {
      "cell_type": "markdown",
      "metadata": {
        "id": "thXRACSg-Dm4"
      },
      "source": [
        "### Vectorizing the Sentences by using two different TextVectorization Layer"
      ]
    },
    {
      "cell_type": "code",
      "execution_count": null,
      "metadata": {
        "id": "OLxiCdrkBBI0"
      },
      "outputs": [],
      "source": [
        "eng_sentences = data[\"english\"]\n",
        "hin_sentences = data[\"hindi\"]"
      ]
    },
    {
      "cell_type": "code",
      "execution_count": null,
      "metadata": {
        "colab": {
          "base_uri": "https://localhost:8080/"
        },
        "id": "c5tenSsdgjje",
        "outputId": "b2e56800-d56f-4a4b-b880-ca3db7cae92d"
      },
      "outputs": [
        {
          "output_type": "execute_result",
          "data": {
            "text/plain": [
              "['startofseq अपने अनुप्रयोग को पहुंचनीयता व्यायाम का लाभ दें endofseq',\n",
              " 'startofseq एक्सेर्साइसर पहुंचनीयता अन्वेषक endofseq',\n",
              " 'startofseq निचले पटल के लिए डिफोल्ट प्लग-इन खाका endofseq',\n",
              " 'startofseq ऊपरी पटल के लिए डिफोल्ट प्लग-इन खाका endofseq',\n",
              " 'startofseq उन प्लग-इनों की सूची जिन्हें डिफोल्ट रूप से निष्क्रिय किया गया है endofseq',\n",
              " 'startofseq अवधि को हाइलाइट रकें endofseq',\n",
              " 'startofseq पहुंचनीय आसंधि (नोड) को चुनते समय हाइलाइट बक्से की अवधि endofseq',\n",
              " 'startofseq सीमांत (बोर्डर) के रंग को हाइलाइट करें endofseq',\n",
              " 'startofseq हाइलाइट किए गए सीमांत का रंग और अपारदर्शिता।  endofseq',\n",
              " 'startofseq भराई के रंग को हाइलाइट करें endofseq']"
            ]
          },
          "metadata": {},
          "execution_count": 26
        }
      ],
      "source": [
        "sentence_hindi = [f\"startofseq {sen} endofseq\" for sen in hin_sentences]\n",
        "sentence_hindi[:10]"
      ]
    },
    {
      "cell_type": "code",
      "execution_count": null,
      "metadata": {
        "id": "Xk7D93NEdx8u"
      },
      "outputs": [],
      "source": [
        "# Prefetching and batching the dataset\n",
        "eng_sen_prefetched = tf.data.Dataset.from_tensor_slices(eng_sentences).batch(256).prefetch(tf.data.AUTOTUNE)\n",
        "hin_sen_prefetched = tf.data.Dataset.from_tensor_slices(sentence_hindi).batch(256).prefetch(tf.data.AUTOTUNE)"
      ]
    },
    {
      "cell_type": "code",
      "execution_count": null,
      "metadata": {
        "id": "ROVJGleP-X5u"
      },
      "outputs": [],
      "source": [
        "vocab_size = 30000\n",
        "max_token_length = 53\n",
        "# input_vocab_size = 10000\n",
        "# output_vocab_size = 15000\n",
        "# max_token_length_input = 47\n",
        "# max_token_length_output = 53\n",
        "\n",
        "# Text Vectorization layer for hindi (output or decoder)\n",
        "text_vec_hindi = tf.keras.layers.TextVectorization(max_tokens=vocab_size,\n",
        "                                                   output_sequence_length=max_token_length)\n",
        "\n",
        "# Text Vectorization layer for english sentences (input or encoder)\n",
        "text_vec_english = tf.keras.layers.TextVectorization(max_tokens=vocab_size,\n",
        "                                                     output_sequence_length=max_token_length)\n",
        "\n",
        "# Adapting the english sentence\n",
        "text_vec_english.adapt(eng_sen_prefetched)\n",
        "\n",
        "# Adapting and adding startofseq and endofseq to starting and ending of the hindi sentence\n",
        "text_vec_hindi.adapt(hin_sen_prefetched)"
      ]
    },
    {
      "cell_type": "code",
      "execution_count": null,
      "metadata": {
        "colab": {
          "base_uri": "https://localhost:8080/"
        },
        "id": "SIkjgFYbAEJy",
        "outputId": "5caa7bc4-7360-4221-d6a9-71622d82eb3a"
      },
      "outputs": [
        {
          "output_type": "execute_result",
          "data": {
            "text/plain": [
              "['सिंधियों',\n",
              " 'सारहीन',\n",
              " 'साफतौर',\n",
              " 'सादापाठ',\n",
              " 'सागरतट',\n",
              " 'साकेत',\n",
              " 'साइरिलिकयूक्रेनी',\n",
              " 'साइडिंग',\n",
              " 'साइंसेज',\n",
              " 'सांद्रण']"
            ]
          },
          "metadata": {},
          "execution_count": 29
        }
      ],
      "source": [
        "text_vec_hindi.get_vocabulary()[-10:]"
      ]
    },
    {
      "cell_type": "code",
      "execution_count": null,
      "metadata": {
        "colab": {
          "base_uri": "https://localhost:8080/"
        },
        "id": "PgCm55JgATvO",
        "outputId": "e0e49229-d882-45f0-e3b1-b56aef0d826b"
      },
      "outputs": [
        {
          "output_type": "execute_result",
          "data": {
            "text/plain": [
              "['lyricism',\n",
              " 'ly',\n",
              " 'luxemburg',\n",
              " 'lunatic',\n",
              " 'lumpsum',\n",
              " 'lumbini',\n",
              " 'lubrication',\n",
              " 'luanda',\n",
              " 'ls',\n",
              " 'lotion']"
            ]
          },
          "metadata": {},
          "execution_count": 30
        }
      ],
      "source": [
        "text_vec_english.get_vocabulary()[-10:]"
      ]
    },
    {
      "cell_type": "markdown",
      "metadata": {
        "id": "gXjP9I4E6qs7"
      },
      "source": [
        "### Spliting the dataset into train and test set\n",
        "\n",
        "We can not use train test split method to split the dataset."
      ]
    },
    {
      "cell_type": "code",
      "execution_count": null,
      "metadata": {
        "id": "Zy7g9RRR7IJq"
      },
      "outputs": [],
      "source": [
        "X_train = eng_sentences[:1400001]\n",
        "X_valid = eng_sentences[1400001:]\n",
        "\n",
        "X_train_dec = [f\"startofseq {sen}\" for sen in hin_sentences[:1400001]]\n",
        "X_valid_dec = [f\"startofseq {sen}\" for sen in hin_sentences[1400001:]]\n",
        "\n",
        "y_train = text_vec_hindi([f\"{sen} endofseq\" for sen in hin_sentences[:1400001]])\n",
        "y_valid = text_vec_hindi([f\"{sen} endofseq\" for sen in hin_sentences[1400001:]])"
      ]
    },
    {
      "cell_type": "code",
      "execution_count": null,
      "metadata": {
        "id": "bsYwbBZXl3ij"
      },
      "outputs": [],
      "source": [
        "# # Prefetching and batching the dataset\n",
        "# X_train = tf.data.Dataset.from_tensor_slices((X_train, X_train_dec))\n",
        "# X_valid = tf.data.Dataset.from_tensor_slices((X_valid, X_valid_dec))\n",
        "\n",
        "# # X_train_dec = tf.data.Dataset.from_tensor_slices(X_train_dec)\n",
        "# # X_valid_dec = tf.data.Dataset.from_tensor_slices(X_valid_dec)\n",
        "\n",
        "# y_train = tf.data.Dataset.from_tensor_slices(y_train)\n",
        "# y_valid = tf.data.Dataset.from_tensor_slices(y_valid)\n",
        "\n",
        "# X_train_data = tf.data.Dataset.zip((X_train, y_train)).batch(32).prefetch(tf.data.AUTOTUNE)\n",
        "# X_valid_data = tf.data.Dataset.zip((X_valid, y_valid)).batch(32).prefetch(tf.data.AUTOTUNE)"
      ]
    },
    {
      "cell_type": "code",
      "execution_count": null,
      "metadata": {
        "id": "Tp520JV0r5lZ"
      },
      "outputs": [],
      "source": [
        "# Prefetching and batching the dataset\n",
        "X_train = tf.data.Dataset.from_tensor_slices(X_train) # .batch(32).prefetch(tf.data.AUTOTUNE)\n",
        "X_valid = tf.data.Dataset.from_tensor_slices(X_valid) # .batch(32).prefetch(tf.data.AUTOTUNE)"
      ]
    },
    {
      "cell_type": "code",
      "execution_count": null,
      "metadata": {
        "id": "RNL5b3mfmB9Q"
      },
      "outputs": [],
      "source": [
        "# Prefetching and batching the dataset\n",
        "X_train_dec = tf.data.Dataset.from_tensor_slices(X_train_dec) # .batch(32).prefetch(tf.data.AUTOTUNE)\n",
        "X_valid_dec = tf.data.Dataset.from_tensor_slices(X_valid_dec) # .batch(32).prefetch(tf.data.AUTOTUNE)"
      ]
    },
    {
      "cell_type": "code",
      "execution_count": null,
      "metadata": {
        "id": "wOcSDUb0mI5R"
      },
      "outputs": [],
      "source": [
        "# Prefetching and batching the dataset\n",
        "y_train = tf.data.Dataset.from_tensor_slices(y_train) # .batch(32).prefetch(tf.data.AUTOTUNE)\n",
        "y_valid = tf.data.Dataset.from_tensor_slices(y_valid) # .batch(32).prefetch(tf.data.AUTOTUNE)"
      ]
    },
    {
      "cell_type": "code",
      "execution_count": null,
      "metadata": {
        "id": "oVheT2CtsDHj"
      },
      "outputs": [],
      "source": [
        "X_train_dataset = tf.data.Dataset.zip(((X_train, X_train_dec), y_train))\n",
        "X_valid_dataset = tf.data.Dataset.zip(((X_valid, X_valid_dec), y_valid))\n",
        "\n",
        "X_train_dataset = X_train_dataset.batch(256).prefetch(tf.data.AUTOTUNE)\n",
        "X_valid_dataset = X_valid_dataset.batch(256).prefetch(tf.data.AUTOTUNE)"
      ]
    },
    {
      "cell_type": "code",
      "execution_count": null,
      "metadata": {
        "colab": {
          "base_uri": "https://localhost:8080/"
        },
        "id": "I3U4dhgftM9C",
        "outputId": "bbe62547-d392-4d2f-fe76-d54a92c7a86c"
      },
      "outputs": [
        {
          "output_type": "execute_result",
          "data": {
            "text/plain": [
              "(<_TensorSliceDataset element_spec=TensorSpec(shape=(53,), dtype=tf.int64, name=None)>,\n",
              " <_TensorSliceDataset element_spec=TensorSpec(shape=(53,), dtype=tf.int64, name=None)>)"
            ]
          },
          "metadata": {},
          "execution_count": 37
        }
      ],
      "source": [
        "y_train, y_valid"
      ]
    },
    {
      "cell_type": "code",
      "execution_count": null,
      "metadata": {
        "id": "Ik4ZYzwbk8az"
      },
      "outputs": [],
      "source": [
        "# X_train[:5], X_valid[:5]"
      ]
    },
    {
      "cell_type": "code",
      "execution_count": null,
      "metadata": {
        "id": "dJWQICXGlGae"
      },
      "outputs": [],
      "source": [
        "# X_valid_dec[:5], X_train[:5]"
      ]
    },
    {
      "cell_type": "code",
      "execution_count": null,
      "metadata": {
        "id": "-N3NoJsPlNBo"
      },
      "outputs": [],
      "source": [
        "# y_train[:2], y_valid[:2]"
      ]
    },
    {
      "cell_type": "markdown",
      "metadata": {
        "id": "aRVKQsonJyiI"
      },
      "source": [
        "# Model_0:  Building the LSTM model"
      ]
    },
    {
      "cell_type": "code",
      "execution_count": null,
      "metadata": {
        "id": "-BhEzedaKFEA"
      },
      "outputs": [],
      "source": [
        "# Setting the embedding output size\n",
        "embed_size = 128"
      ]
    },
    {
      "cell_type": "code",
      "execution_count": null,
      "metadata": {
        "id": "RhHpN2aEJ0k6"
      },
      "outputs": [],
      "source": [
        "# Creating the inputs layers for the encoder and decoder\n",
        "# encoder_inputs = tf.keras.layers.Input(shape=(None, input_vocab_size), dtype=tf.string)\n",
        "# decoder_inputs = tf.keras.layers.Input(shape=(None, output_vocab_size), dtype=tf.string)\n",
        "\n",
        "encoder_inputs = tf.keras.layers.Input(shape=(), dtype=tf.string)\n",
        "decoder_inputs = tf.keras.layers.Input(shape=(), dtype=tf.string)\n",
        "\n",
        "# Vectorizing the inputs of encoder and decoder\n",
        "encoder_input_ids = text_vec_english(encoder_inputs)\n",
        "decoder_input_ids = text_vec_hindi(decoder_inputs)"
      ]
    },
    {
      "cell_type": "code",
      "execution_count": null,
      "metadata": {
        "id": "BwTwg5bGKti-"
      },
      "outputs": [],
      "source": [
        "# Creating embedding layers for both the encoder and decoder\n",
        "encoder_embedding_layer = tf.keras.layers.Embedding(input_dim=vocab_size,\n",
        "                                              output_dim=embed_size,\n",
        "                                              mask_zero=True)\n",
        "\n",
        "decoder_embedding_layer = tf.keras.layers.Embedding(input_dim=vocab_size,\n",
        "                                              output_dim=embed_size,\n",
        "                                              mask_zero=True)\n",
        "\n",
        "# Now passing the vectorized input ids to embedding layers\n",
        "encoder_embeddings = encoder_embedding_layer(encoder_input_ids)\n",
        "decoder_embeddings = decoder_embedding_layer(decoder_input_ids)"
      ]
    },
    {
      "cell_type": "code",
      "execution_count": null,
      "metadata": {
        "id": "weo3hYIsLyDZ"
      },
      "outputs": [],
      "source": [
        "# Now Create the encoder and pass it the embedded inputs\n",
        "encoder = tf.keras.layers.LSTM(units=512, return_state=True)\n",
        "encoder_outputs, *encoder_state = encoder(encoder_embeddings)"
      ]
    },
    {
      "cell_type": "code",
      "execution_count": null,
      "metadata": {
        "id": "OSaORjoMMIS7"
      },
      "outputs": [],
      "source": [
        "# Now create the decoder and pass it the embedded inputs\n",
        "decoder = tf.keras.layers.LSTM(units=512, return_sequences=True, return_state=True)\n",
        "decoder_outputs, *decoder_state = decoder(decoder_embeddings, initial_state=encoder_state)"
      ]
    },
    {
      "cell_type": "code",
      "execution_count": null,
      "metadata": {
        "id": "eMMmeYxIMg38"
      },
      "outputs": [],
      "source": [
        "# Creating output layer\n",
        "output_layer = tf.keras.layers.Dense(units=vocab_size, activation=\"softmax\")\n",
        "y_prob = output_layer(decoder_outputs)"
      ]
    },
    {
      "cell_type": "code",
      "execution_count": null,
      "metadata": {
        "id": "rsiBCNRDM252"
      },
      "outputs": [],
      "source": [
        "# Finally creating the model\n",
        "model_0 = tf.keras.Model(inputs=[encoder_inputs, decoder_inputs],\n",
        "                         outputs=[y_prob], name=\"LSTM_language_translation_model\")\n",
        "\n",
        "# Compile the model\n",
        "model_0.compile(loss=tf.keras.losses.SparseCategoricalCrossentropy(),\n",
        "                optimizer=tf.keras.optimizers.Nadam(),\n",
        "                metrics=[\"accuracy\"])"
      ]
    },
    {
      "cell_type": "code",
      "execution_count": null,
      "metadata": {
        "colab": {
          "base_uri": "https://localhost:8080/"
        },
        "id": "mCbqirRE3rcl",
        "outputId": "0873c2ad-52df-417f-c96f-0d1b881c21bd"
      },
      "outputs": [
        {
          "data": {
            "text/plain": [
              "(4375,\n",
              " <PrefetchDataset element_spec=((TensorSpec(shape=(None,), dtype=tf.string, name=None), TensorSpec(shape=(None,), dtype=tf.string, name=None)), TensorSpec(shape=(None, 53), dtype=tf.int64, name=None))>)"
            ]
          },
          "execution_count": 50,
          "metadata": {},
          "output_type": "execute_result"
        }
      ],
      "source": [
        "int(len(X_train_dataset) * 0.1), X_train_dataset"
      ]
    },
    {
      "cell_type": "code",
      "execution_count": null,
      "metadata": {
        "colab": {
          "base_uri": "https://localhost:8080/"
        },
        "id": "3xH6lWd1Nbyy",
        "outputId": "d60d7995-d8a3-4fe1-8aeb-164c5a85ca83"
      },
      "outputs": [
        {
          "name": "stdout",
          "output_type": "stream",
          "text": [
            "Epoch 1/10\n",
            "4375/4375 [==============================] - 350s 76ms/step - loss: 2.9178 - accuracy: 0.4477 - val_loss: 9.1856 - val_accuracy: 0.1023\n",
            "Epoch 2/10\n",
            "4375/4375 [==============================] - 397s 91ms/step - loss: 3.3480 - accuracy: 0.3030 - val_loss: 6.9143 - val_accuracy: 0.1598\n",
            "Epoch 3/10\n",
            "4375/4375 [==============================] - 266s 61ms/step - loss: 2.8912 - accuracy: 0.3636 - val_loss: 7.5736 - val_accuracy: 0.1369\n",
            "Epoch 4/10\n",
            "4375/4375 [==============================] - 263s 60ms/step - loss: 4.3136 - accuracy: 0.3074 - val_loss: 4.7250 - val_accuracy: 0.2448\n",
            "Epoch 5/10\n",
            "4375/4375 [==============================] - 271s 62ms/step - loss: 3.8645 - accuracy: 0.3193 - val_loss: 4.4860 - val_accuracy: 0.2560\n",
            "Epoch 6/10\n",
            "4375/4375 [==============================] - 236s 54ms/step - loss: 1.5607 - accuracy: 0.7098 - val_loss: 5.2320 - val_accuracy: 0.1838\n",
            "Epoch 7/10\n",
            "4375/4375 [==============================] - 244s 56ms/step - loss: 2.5458 - accuracy: 0.4791 - val_loss: 4.8052 - val_accuracy: 0.2397\n",
            "Epoch 8/10\n",
            "4375/4375 [==============================] - 259s 59ms/step - loss: 3.3315 - accuracy: 0.3592 - val_loss: 4.5020 - val_accuracy: 0.2620\n",
            "Epoch 9/10\n",
            "4375/4375 [==============================] - 229s 52ms/step - loss: 3.0049 - accuracy: 0.3559 - val_loss: 4.4976 - val_accuracy: 0.2554\n",
            "Epoch 10/10\n",
            "4375/4375 [==============================] - 227s 52ms/step - loss: 3.7769 - accuracy: 0.3051 - val_loss: 3.8507 - val_accuracy: 0.2981\n"
          ]
        },
        {
          "data": {
            "text/plain": [
              "<keras.callbacks.History at 0x7d95ca2f9c90>"
            ]
          },
          "execution_count": 54,
          "metadata": {},
          "output_type": "execute_result"
        }
      ],
      "source": [
        "# Fit the model\n",
        "model_0.fit(X_train_dataset,\n",
        "            epochs=10,\n",
        "            steps_per_epoch=int(len(X_train_dataset) * 0.1),\n",
        "            validation_data=X_valid_dataset,\n",
        "            validation_steps=int(len(X_valid_dataset) * 0.1))"
      ]
    },
    {
      "cell_type": "markdown",
      "metadata": {
        "id": "se68rG0_N9Xs"
      },
      "source": [
        "## Making Prediction"
      ]
    },
    {
      "cell_type": "code",
      "execution_count": null,
      "metadata": {
        "id": "fEzr08JrN89p"
      },
      "outputs": [],
      "source": [
        "# Writing a function to make prediction\n",
        "def translate(sentence_eng, model):\n",
        "  \"\"\"Function to translate the given english sentence into hindi sentence.\"\"\"\n",
        "  translation = \"\"\n",
        "  for word in range(max_token_length): # Number of token in each sentences\n",
        "    X = np.array([sentence_eng])  # Encoder input\n",
        "    X_dec = np.array([\"startofseq\" + translation])  # Decoder input\n",
        "    y_proba = model.predict((X, X_dec))[0, word]  # last token's probability\n",
        "    predicted_word_id = np.argmax(y_proba)\n",
        "    predicted_word = text_vec_hindi.get_vocabulary()[predicted_word_id]\n",
        "    if predicted_word == \"endofseq\":\n",
        "      break\n",
        "    translation += \" \" + predicted_word\n",
        "  return translation.strip()"
      ]
    },
    {
      "cell_type": "code",
      "execution_count": null,
      "metadata": {
        "colab": {
          "base_uri": "https://localhost:8080/",
          "height": 166
        },
        "id": "MSYWAJt9QGY8",
        "outputId": "a2bbead0-bdb0-4f30-854e-adb3b80486ec"
      },
      "outputs": [
        {
          "output_type": "error",
          "ename": "TypeError",
          "evalue": "ignored",
          "traceback": [
            "\u001b[0;31m---------------------------------------------------------------------------\u001b[0m",
            "\u001b[0;31mTypeError\u001b[0m                                 Traceback (most recent call last)",
            "\u001b[0;32m<ipython-input-59-bea9463f9c69>\u001b[0m in \u001b[0;36m<cell line: 1>\u001b[0;34m()\u001b[0m\n\u001b[0;32m----> 1\u001b[0;31m \u001b[0mtranslate\u001b[0m\u001b[0;34m(\u001b[0m\u001b[0;34m[\u001b[0m\u001b[0;34m\"i love hindi\"\u001b[0m\u001b[0;34m]\u001b[0m\u001b[0;34m)\u001b[0m\u001b[0;34m\u001b[0m\u001b[0;34m\u001b[0m\u001b[0m\n\u001b[0m",
            "\u001b[0;31mTypeError\u001b[0m: translate() missing 1 required positional argument: 'model'"
          ]
        }
      ],
      "source": [
        "translate([\"i love hindi\"])"
      ]
    },
    {
      "cell_type": "markdown",
      "metadata": {
        "id": "ZANf4tKd3VAz"
      },
      "source": [
        "# Model 1: Building Bidirectional LSTM Model\n",
        "\n",
        "To implement a Bidirectional LSTM layer in Keras, just wrap a recurrent layer in a `tf.keras.layers.Bidirectional layer`.\n",
        "\n",
        "**Problem with Bidirectional layer:**\n",
        "* It return four states instead of two: `the final short-term` and `long-term states of the forward LSTM layer` and `the final short-term` and `final long term state of backward LSTM layer`.\n",
        "* We cannot use this quadruple state directly as the initial state of the decoder's LSTM layer, since it expects just two states (short-term and long-term).\n",
        "* So, Concatenate the final short-term of forward LSTM layer and final short-term of backward LSTM layer into one.\n",
        "* Similarly, concatenate the final long-term of forward LSTM layer and final long-term of backward LSTM layer into one.\n",
        "\n",
        "**Note:** We cannot make the `Decoder Bidirectional`, since it must remain causal: otherwise it would cheat during training and it would not work."
      ]
    },
    {
      "cell_type": "code",
      "execution_count": null,
      "metadata": {
        "id": "zKG1EViq-QNW"
      },
      "outputs": [],
      "source": [
        "# Creating the model_1 using functional API\n",
        "\n",
        "# Encoder\n",
        "encoder_inputs = tf.keras.layers.Input(shape=(), dtype=tf.string) # Input layer\n",
        "x = text_vec_english(encoder_inputs)\n",
        "x = encoder_embedding_layer(x)\n",
        "encoder_outputs, *encoder_states = tf.keras.layers.Bidirectional(tf.keras.layers.LSTM(units=256, return_state=True))(x)\n",
        "\n",
        "# Concatenating the states of encoders\n",
        "encoder_states = [tf.concat(encoder_states[::2], axis=-1), # short-term states (0, 2)\n",
        "                 tf.concat(encoder_states[1::2], axis=-1)] # long-term states (1, 3)\n",
        "\n",
        "\n",
        "\n",
        "# Decoder\n",
        "decoder_inputs = tf.keras.layers.Input(shape=(), dtype=tf.string)\n",
        "x = text_vec_hindi(decoder_inputs)\n",
        "x = decoder_embedding_layer(x)\n",
        "decoder_output, *decoder_states = tf.keras.layers.LSTM(units=512,  # Size of decoder lstm units = 2 * bidirectional lstm units\n",
        "                                      return_sequences=True,\n",
        "                                      return_state=True)(x, initial_state=encoder_states)\n",
        "\n",
        "\n",
        "# Output layer\n",
        "output_y_prob = tf.keras.layers.Dense(units=vocab_size, activation=\"softmax\")(decoder_output)\n",
        "\n",
        "# Creating the model\n",
        "model_1 = tf.keras.Model(inputs=[encoder_inputs, decoder_inputs],\n",
        "                         outputs=output_y_prob,\n",
        "                         name=\"Bidirectional_LSTM_model\")\n",
        "\n",
        "# Compile the model\n",
        "model_1.compile(loss=tf.keras.losses.SparseCategoricalCrossentropy(),\n",
        "                optimizer=tf.keras.optimizers.Nadam(),\n",
        "                metrics=[\"accuracy\"])"
      ]
    },
    {
      "cell_type": "code",
      "execution_count": null,
      "metadata": {
        "colab": {
          "base_uri": "https://localhost:8080/"
        },
        "id": "loOXWsKFAQ5_",
        "outputId": "e985e1e5-cf64-48a3-b0cd-11f479f2f45c"
      },
      "outputs": [
        {
          "name": "stdout",
          "output_type": "stream",
          "text": [
            "Epoch 1/10\n",
            "2187/2187 [==============================] - ETA: 0s - loss: 3.1706 - accuracy: 0.4605"
          ]
        },
        {
          "name": "stderr",
          "output_type": "stream",
          "text": [
            "WARNING:absl:Found untraced functions such as lstm_cell_14_layer_call_fn, lstm_cell_14_layer_call_and_return_conditional_losses, lstm_cell_12_layer_call_fn, lstm_cell_12_layer_call_and_return_conditional_losses, lstm_cell_13_layer_call_fn while saving (showing 5 of 6). These functions will not be directly callable after loading.\n"
          ]
        },
        {
          "name": "stdout",
          "output_type": "stream",
          "text": [
            "\b\b\b\b\b\b\b\b\b\b\b\b\b\b\b\b\b\b\b\b\b\b\b\b\b\b\b\b\b\b\b\b\b\b\b\b\b\b\b\b\b\b\b\b\b\b\b\b\b\b\b\b\b\b\b\b\b\b\b\b\b\b\b\b\b\b\b\b\b\b\b\b\b\b\b\b\b\b\b\b\b\b\b\b\b\b\r2187/2187 [==============================] - 351s 151ms/step - loss: 3.1706 - accuracy: 0.4605 - val_loss: 8.9924 - val_accuracy: 0.1095\n",
            "Epoch 2/10\n",
            "2187/2187 [==============================] - ETA: 0s - loss: 1.5033 - accuracy: 0.6853"
          ]
        },
        {
          "name": "stderr",
          "output_type": "stream",
          "text": [
            "WARNING:absl:Found untraced functions such as lstm_cell_14_layer_call_fn, lstm_cell_14_layer_call_and_return_conditional_losses, lstm_cell_12_layer_call_fn, lstm_cell_12_layer_call_and_return_conditional_losses, lstm_cell_13_layer_call_fn while saving (showing 5 of 6). These functions will not be directly callable after loading.\n"
          ]
        },
        {
          "name": "stdout",
          "output_type": "stream",
          "text": [
            "\b\b\b\b\b\b\b\b\b\b\b\b\b\b\b\b\b\b\b\b\b\b\b\b\b\b\b\b\b\b\b\b\b\b\b\b\b\b\b\b\b\b\b\b\b\b\b\b\b\b\b\b\b\b\b\b\b\b\b\b\b\b\b\b\b\b\b\b\b\b\b\b\b\b\b\b\b\b\b\b\b\b\b\b\b\b\r2187/2187 [==============================] - 265s 121ms/step - loss: 1.5033 - accuracy: 0.6853 - val_loss: 9.4034 - val_accuracy: 0.1243\n",
            "Epoch 3/10\n",
            "2187/2187 [==============================] - ETA: 0s - loss: 3.0215 - accuracy: 0.4994"
          ]
        },
        {
          "name": "stderr",
          "output_type": "stream",
          "text": [
            "WARNING:absl:Found untraced functions such as lstm_cell_14_layer_call_fn, lstm_cell_14_layer_call_and_return_conditional_losses, lstm_cell_12_layer_call_fn, lstm_cell_12_layer_call_and_return_conditional_losses, lstm_cell_13_layer_call_fn while saving (showing 5 of 6). These functions will not be directly callable after loading.\n"
          ]
        },
        {
          "name": "stdout",
          "output_type": "stream",
          "text": [
            "\b\b\b\b\b\b\b\b\b\b\b\b\b\b\b\b\b\b\b\b\b\b\b\b\b\b\b\b\b\b\b\b\b\b\b\b\b\b\b\b\b\b\b\b\b\b\b\b\b\b\b\b\b\b\b\b\b\b\b\b\b\b\b\b\b\b\b\b\b\b\b\b\b\b\b\b\b\b\b\b\b\b\b\b\b\b\r2187/2187 [==============================] - 245s 112ms/step - loss: 3.0215 - accuracy: 0.4994 - val_loss: 7.9736 - val_accuracy: 0.1278\n",
            "Epoch 4/10\n",
            "2187/2187 [==============================] - ETA: 0s - loss: 3.5086 - accuracy: 0.2762"
          ]
        },
        {
          "name": "stderr",
          "output_type": "stream",
          "text": [
            "WARNING:absl:Found untraced functions such as lstm_cell_14_layer_call_fn, lstm_cell_14_layer_call_and_return_conditional_losses, lstm_cell_12_layer_call_fn, lstm_cell_12_layer_call_and_return_conditional_losses, lstm_cell_13_layer_call_fn while saving (showing 5 of 6). These functions will not be directly callable after loading.\n"
          ]
        },
        {
          "name": "stdout",
          "output_type": "stream",
          "text": [
            "\b\b\b\b\b\b\b\b\b\b\b\b\b\b\b\b\b\b\b\b\b\b\b\b\b\b\b\b\b\b\b\b\b\b\b\b\b\b\b\b\b\b\b\b\b\b\b\b\b\b\b\b\b\b\b\b\b\b\b\b\b\b\b\b\b\b\b\b\b\b\b\b\b\b\b\b\b\b\b\b\b\b\b\b\b\b\r2187/2187 [==============================] - 339s 155ms/step - loss: 3.5086 - accuracy: 0.2762 - val_loss: 7.3826 - val_accuracy: 0.1524\n",
            "Epoch 5/10\n",
            "2187/2187 [==============================] - ETA: 0s - loss: 2.7939 - accuracy: 0.3790"
          ]
        },
        {
          "name": "stderr",
          "output_type": "stream",
          "text": [
            "WARNING:absl:Found untraced functions such as lstm_cell_14_layer_call_fn, lstm_cell_14_layer_call_and_return_conditional_losses, lstm_cell_12_layer_call_fn, lstm_cell_12_layer_call_and_return_conditional_losses, lstm_cell_13_layer_call_fn while saving (showing 5 of 6). These functions will not be directly callable after loading.\n"
          ]
        },
        {
          "name": "stdout",
          "output_type": "stream",
          "text": [
            "\b\b\b\b\b\b\b\b\b\b\b\b\b\b\b\b\b\b\b\b\b\b\b\b\b\b\b\b\b\b\b\b\b\b\b\b\b\b\b\b\b\b\b\b\b\b\b\b\b\b\b\b\b\b\b\b\b\b\b\b\b\b\b\b\b\b\b\b\b\b\b\b\b\b\b\b\b\b\b\b\b\b\b\b\b\b\r2187/2187 [==============================] - 262s 120ms/step - loss: 2.7939 - accuracy: 0.3790 - val_loss: 7.7926 - val_accuracy: 0.1360\n",
            "Epoch 6/10\n",
            "2187/2187 [==============================] - ETA: 0s - loss: 2.0263 - accuracy: 0.5002"
          ]
        },
        {
          "name": "stderr",
          "output_type": "stream",
          "text": [
            "WARNING:absl:Found untraced functions such as lstm_cell_14_layer_call_fn, lstm_cell_14_layer_call_and_return_conditional_losses, lstm_cell_12_layer_call_fn, lstm_cell_12_layer_call_and_return_conditional_losses, lstm_cell_13_layer_call_fn while saving (showing 5 of 6). These functions will not be directly callable after loading.\n"
          ]
        },
        {
          "name": "stdout",
          "output_type": "stream",
          "text": [
            "\b\b\b\b\b\b\b\b\b\b\b\b\b\b\b\b\b\b\b\b\b\b\b\b\b\b\b\b\b\b\b\b\b\b\b\b\b\b\b\b\b\b\b\b\b\b\b\b\b\b\b\b\b\b\b\b\b\b\b\b\b\b\b\b\b\b\b\b\b\b\b\b\b\b\b\b\b\b\b\b\b\b\b\b\b\b\r2187/2187 [==============================] - 253s 116ms/step - loss: 2.0263 - accuracy: 0.5002 - val_loss: 8.1608 - val_accuracy: 0.1403\n",
            "Epoch 7/10\n",
            "2187/2187 [==============================] - ETA: 0s - loss: 4.3620 - accuracy: 0.3412"
          ]
        },
        {
          "name": "stderr",
          "output_type": "stream",
          "text": [
            "WARNING:absl:Found untraced functions such as lstm_cell_14_layer_call_fn, lstm_cell_14_layer_call_and_return_conditional_losses, lstm_cell_12_layer_call_fn, lstm_cell_12_layer_call_and_return_conditional_losses, lstm_cell_13_layer_call_fn while saving (showing 5 of 6). These functions will not be directly callable after loading.\n"
          ]
        },
        {
          "name": "stdout",
          "output_type": "stream",
          "text": [
            "\b\b\b\b\b\b\b\b\b\b\b\b\b\b\b\b\b\b\b\b\b\b\b\b\b\b\b\b\b\b\b\b\b\b\b\b\b\b\b\b\b\b\b\b\b\b\b\b\b\b\b\b\b\b\b\b\b\b\b\b\b\b\b\b\b\b\b\b\b\b\b\b\b\b\b\b\b\b\b\b\b\b\b\b\b\b\r2187/2187 [==============================] - 252s 115ms/step - loss: 4.3620 - accuracy: 0.3412 - val_loss: 5.1663 - val_accuracy: 0.2229\n",
            "Epoch 8/10\n",
            "2187/2187 [==============================] - ETA: 0s - loss: 4.2317 - accuracy: 0.2901"
          ]
        },
        {
          "name": "stderr",
          "output_type": "stream",
          "text": [
            "WARNING:absl:Found untraced functions such as lstm_cell_14_layer_call_fn, lstm_cell_14_layer_call_and_return_conditional_losses, lstm_cell_12_layer_call_fn, lstm_cell_12_layer_call_and_return_conditional_losses, lstm_cell_13_layer_call_fn while saving (showing 5 of 6). These functions will not be directly callable after loading.\n"
          ]
        },
        {
          "name": "stdout",
          "output_type": "stream",
          "text": [
            "\b\b\b\b\b\b\b\b\b\b\b\b\b\b\b\b\b\b\b\b\b\b\b\b\b\b\b\b\b\b\b\b\b\b\b\b\b\b\b\b\b\b\b\b\b\b\b\b\b\b\b\b\b\b\b\b\b\b\b\b\b\b\b\b\b\b\b\b\b\b\b\b\b\b\b\b\b\b\b\b\b\b\b\b\b\b\r2187/2187 [==============================] - 243s 111ms/step - loss: 4.2317 - accuracy: 0.2901 - val_loss: 4.8874 - val_accuracy: 0.2361\n",
            "Epoch 9/10\n",
            "2187/2187 [==============================] - ETA: 0s - loss: 3.9507 - accuracy: 0.3104"
          ]
        },
        {
          "name": "stderr",
          "output_type": "stream",
          "text": [
            "WARNING:absl:Found untraced functions such as lstm_cell_14_layer_call_fn, lstm_cell_14_layer_call_and_return_conditional_losses, lstm_cell_12_layer_call_fn, lstm_cell_12_layer_call_and_return_conditional_losses, lstm_cell_13_layer_call_fn while saving (showing 5 of 6). These functions will not be directly callable after loading.\n"
          ]
        },
        {
          "name": "stdout",
          "output_type": "stream",
          "text": [
            "\b\b\b\b\b\b\b\b\b\b\b\b\b\b\b\b\b\b\b\b\b\b\b\b\b\b\b\b\b\b\b\b\b\b\b\b\b\b\b\b\b\b\b\b\b\b\b\b\b\b\b\b\b\b\b\b\b\b\b\b\b\b\b\b\b\b\b\b\b\b\b\b\b\b\b\b\b\b\b\b\b\b\b\b\b\b\r2187/2187 [==============================] - 253s 115ms/step - loss: 3.9507 - accuracy: 0.3104 - val_loss: 4.7552 - val_accuracy: 0.2412\n",
            "Epoch 10/10\n",
            "2187/2187 [==============================] - ETA: 0s - loss: 3.7797 - accuracy: 0.3234"
          ]
        },
        {
          "name": "stderr",
          "output_type": "stream",
          "text": [
            "WARNING:absl:Found untraced functions such as lstm_cell_14_layer_call_fn, lstm_cell_14_layer_call_and_return_conditional_losses, lstm_cell_12_layer_call_fn, lstm_cell_12_layer_call_and_return_conditional_losses, lstm_cell_13_layer_call_fn while saving (showing 5 of 6). These functions will not be directly callable after loading.\n"
          ]
        },
        {
          "name": "stdout",
          "output_type": "stream",
          "text": [
            "\b\b\b\b\b\b\b\b\b\b\b\b\b\b\b\b\b\b\b\b\b\b\b\b\b\b\b\b\b\b\b\b\b\b\b\b\b\b\b\b\b\b\b\b\b\b\b\b\b\b\b\b\b\b\b\b\b\b\b\b\b\b\b\b\b\b\b\b\b\b\b\b\b\b\b\b\b\b\b\b\b\b\b\b\b\b\r2187/2187 [==============================] - 247s 113ms/step - loss: 3.7797 - accuracy: 0.3234 - val_loss: 4.6582 - val_accuracy: 0.2470\n"
          ]
        }
      ],
      "source": [
        "# Fit the model on 10% of the trainind and validation dataset\n",
        "checkpoint_path_1 = f\"Checkpoints/{model_1.name}\"\n",
        "\n",
        "histroy_1 = model_1.fit(X_train_dataset,\n",
        "                        epochs=10,\n",
        "                        steps_per_epoch=int(0.05 * len(X_train_dataset)),\n",
        "                        validation_data=X_valid_dataset,\n",
        "                        validation_steps=int(0.05 * len(X_valid_dataset)),\n",
        "                        callbacks=[tf.keras.callbacks.ModelCheckpoint(filepath=checkpoint_path_1),\n",
        "                                   tf.keras.callbacks.EarlyStopping(monitor=\"val_loss\",\n",
        "                                                                    patience=3,\n",
        "                                                                    restore_best_weights=True)])"
      ]
    },
    {
      "cell_type": "code",
      "execution_count": null,
      "metadata": {
        "colab": {
          "base_uri": "https://localhost:8080/"
        },
        "id": "_D1Ir3HpHn3A",
        "outputId": "179f01be-845d-4ebb-8238-121039865dc3"
      },
      "outputs": [
        {
          "name": "stdout",
          "output_type": "stream",
          "text": [
            "1/1 [==============================] - 0s 27ms/step\n",
            "1/1 [==============================] - 0s 29ms/step\n",
            "1/1 [==============================] - 0s 30ms/step\n"
          ]
        },
        {
          "data": {
            "text/plain": [
              "('पूर्ण स्थिति', 'Absolute position')"
            ]
          },
          "execution_count": 94,
          "metadata": {},
          "output_type": "execute_result"
        }
      ],
      "source": [
        "# making translation using the model_1\n",
        "translate(eng_sentences[49], model_1), eng_sentences[49]"
      ]
    },
    {
      "cell_type": "markdown",
      "metadata": {
        "id": "GR0cZaH0If4g"
      },
      "source": [
        "# Model_2: Encoder-Decoder Model (Bidirectional LSTM) with Attention Mechanism\n",
        "\n",
        "In this model:\n",
        "* Instead of just sending the enocder's final hidden state to the decoder, as well as the previous target word at each step, we now send all of the encoder's outputs to the decoder as well.\n",
        "*"
      ]
    },
    {
      "cell_type": "code",
      "execution_count": null,
      "metadata": {
        "id": "hW_OqJ1kIfDp"
      },
      "outputs": [],
      "source": [
        "# Encoder\n",
        "encoder_inputs = tf.keras.layers.Input(shape=(), dtype=tf.string)\n",
        "x = text_vec_english(encoder_inputs)\n",
        "x = encoder_embedding_layer(x)\n",
        "x = tf.keras.layers.Bidirectional(tf.keras.layers.LSTM(units=256,\n",
        "                                                       return_state=True,\n",
        "                                                       return_sequences=True))(x)\n",
        "encoder_outputs, *encoder_states = tf.keras.layers.Bidirectional(tf.keras.layers.LSTM(units=256,\n",
        "                                                                                      return_state=True,\n",
        "                                                                                      return_sequences=True))(x)\n",
        "\n",
        "# Concatenating the encoder states\n",
        "encoder_states = [tf.concat(encoder_states[::2], axis=-1), # short-term (0, 2)\n",
        "                  tf.concat(encoder_states[1::2], axis=-1)] # long-term (1, 3)\n",
        "\n",
        "# Decoder\n",
        "decoder_inputs = tf.keras.layers.Input(shape=(), dtype=tf.string)\n",
        "x = text_vec_hindi(decoder_inputs)\n",
        "x = encoder_embedding_layer(x)\n",
        "x = tf.keras.layers.LSTM(units=512,\n",
        "                         return_state=True,\n",
        "                         return_sequences=True)(x, initial_state=encoder_states)\n",
        "decoder_outputs, *decoder_states = tf.keras.layers.LSTM(units=512,\n",
        "                                                        return_state=True,\n",
        "                                                        return_sequences=True)(x)\n",
        "\n",
        "# Adding attention layer\n",
        "attention_outputs = tf.keras.layers.Attention()([decoder_outputs, encoder_outputs])\n",
        "\n",
        "# Output layer\n",
        "output_y_prob = tf.keras.layers.Dense(units=vocab_size, activation=\"softmax\")(attention_outputs)\n",
        "\n",
        "\n",
        "# Create the model\n",
        "model_2 = tf.keras.Model(inputs=[encoder_inputs, decoder_inputs],\n",
        "                         outputs=output_y_prob, name=\"encoder_decoder_with_attention\")\n",
        "\n",
        "# Compile the model\n",
        "model_2.compile(loss=tf.keras.losses.SparseCategoricalCrossentropy(),\n",
        "                optimizer=tf.keras.optimizers.Nadam(),\n",
        "                metrics=[\"accuracy\"])"
      ]
    },
    {
      "cell_type": "code",
      "execution_count": null,
      "metadata": {
        "id": "2C3hCCB7U_lS"
      },
      "outputs": [],
      "source": [
        "# Fit the model\n",
        "checkpoint_path_2 = f\"Checkpoints/{model_2.name}\"\n",
        "history_2 = model_2.fit(X_train_dataset,\n",
        "                        epochs=4,\n",
        "                        steps_per_epoch=int(0.15 * len(X_train_dataset)),\n",
        "                        validation_data=X_valid_dataset,\n",
        "                        validation_steps=int(0.15 * len(X_valid_dataset)),\n",
        "                        callbacks=[# tf.keras.callbacks.ModelCheckpoint(filepath=checkpoint_path_2),\n",
        "                                   tf.keras.callbacks.EarlyStopping(monitor=\"val_loss\",\n",
        "                                                                   patience=3,\n",
        "                                                                   restore_best_weights=True)])"
      ]
    },
    {
      "cell_type": "code",
      "execution_count": null,
      "metadata": {
        "id": "T7rwBVrZWk-Q",
        "colab": {
          "base_uri": "https://localhost:8080/"
        },
        "outputId": "a56beb69-f742-4fbe-8028-deccb4020cda"
      },
      "outputs": [
        {
          "output_type": "execute_result",
          "data": {
            "text/plain": [
              "2"
            ]
          },
          "metadata": {},
          "execution_count": 40
        }
      ],
      "source": [
        "import multiprocessing\n",
        "\n",
        "cores = multiprocessing.cpu_count() # Count the number of cores in a computer\n",
        "cores"
      ]
    },
    {
      "cell_type": "markdown",
      "source": [
        "# Model_3: Transformer Model"
      ],
      "metadata": {
        "id": "jnpco-d2QY2d"
      }
    },
    {
      "cell_type": "code",
      "source": [
        "# Creating the inputs layers for the encoder and decoder\n",
        "# encoder_inputs = tf.keras.layers.Input(shape=(None, input_vocab_size), dtype=tf.string)\n",
        "# decoder_inputs = tf.keras.layers.Input(shape=(None, output_vocab_size), dtype=tf.string)\n",
        "\n",
        "encoder_inputss = tf.keras.layers.Input(shape=(), dtype=tf.string)\n",
        "decoder_inputss = tf.keras.layers.Input(shape=(), dtype=tf.string)\n",
        "\n",
        "# Vectorizing the inputs of encoder and decoder\n",
        "encoder_input_ids = text_vec_english(encoder_inputss)\n",
        "decoder_input_ids = text_vec_hindi(decoder_inputss)"
      ],
      "metadata": {
        "id": "Zr3WTUPIQuBp"
      },
      "execution_count": null,
      "outputs": []
    },
    {
      "cell_type": "code",
      "source": [
        "embed_size = 128\n",
        "max_token_length = 53\n",
        "\n",
        "# Creating embedding layers for both the encoder and decoder\n",
        "encoder_embedding_layer = tf.keras.layers.Embedding(input_dim=vocab_size,\n",
        "                                                    output_dim=embed_size,\n",
        "                                                    mask_zero=True)\n",
        "\n",
        "decoder_embedding_layer = tf.keras.layers.Embedding(input_dim=vocab_size,\n",
        "                                                    output_dim=embed_size,\n",
        "                                                    mask_zero=True)\n",
        "\n",
        "# Now passing the vectorized input ids to embedding layers\n",
        "encoder_embeddings = encoder_embedding_layer(encoder_input_ids)\n",
        "decoder_embeddings = decoder_embedding_layer(decoder_input_ids)"
      ],
      "metadata": {
        "id": "9rX81gzlQrEt"
      },
      "execution_count": null,
      "outputs": []
    },
    {
      "cell_type": "markdown",
      "source": [
        "### Creating Positional Encoder\n",
        "\n",
        "**Positional encoding:** Is a dense vector that encoders the position of a word within a sentence: the ith positional encoding is added to the word embedding of the ith word in the sentence.\n",
        "* The easiest way to implement this is to use an Embedding layer and make it encode all the positions from 0 to maximum sequence length in the batch, then add the result ot the word embeddings.\n",
        "* The rules of broadcasting will ensure that the positional encodings get applied to every input sequence.\n",
        "* The encode and decoder share the same Embedding layer for the positional encodings, since they have the same embedding size.\n",
        "* Instead of using trainable positional encodings, the authors of the transformer paper choose to use fixed positional encodings, based on the sine and cosine functions at different frequencies.\n",
        "* We are also going to create the same positional encoding custome layer."
      ],
      "metadata": {
        "id": "ovZxIQpJS8e8"
      }
    },
    {
      "cell_type": "code",
      "source": [
        "embed_size = 128\n",
        "max_token_length = 53\n",
        "\n",
        "# Creating postion embedding layer\n",
        "pos_embed_layer = tf.keras.layers.Embedding(input_dim=max_token_length,\n",
        "                                            output_dim=embed_size)\n",
        "\n",
        "batch_max_len_encoder = tf.shape(encoder_embeddings)[1]\n",
        "encoder_inputs = encoder_embeddings + pos_embed_layer(tf.range(batch_max_len_encoder))\n",
        "\n",
        "batch_max_len_decoder = tf.shape(decoder_embeddings)[1]\n",
        "decoder_inputs = decoder_embeddings + pos_embed_layer(tf.range(batch_max_len_decoder))"
      ],
      "metadata": {
        "id": "MUKBCQD5QYSh"
      },
      "execution_count": null,
      "outputs": []
    },
    {
      "cell_type": "code",
      "source": [
        "class PositionalEncoding(tf.keras.layers.Layer):\n",
        "  def __init__(self, max_token_size, embed_size, dtype=tf.float32, **kwargs):\n",
        "    super().__init__(dtype=dtype, **kwargs)\n",
        "    assert embed_size % 2 == 0, \"embed_size must be even\"\n",
        "    p, i = np.meshgrid(np.arange(max_token_length), 2 * np.arange(embed_size // 2))\n",
        "    pos_emb = np.empty((1, max_token_length, embed_size))\n",
        "    pos_emb[0, :, ::2] = np.sin(p / 10000 ** (i / embed_size)).T\n",
        "    pos_emb[0, :, 1::2] = np.cos(p / 10000 ** (i / embed_size)).T\n",
        "    self.pos_encodings = tf.constant(pos_emb.astype(self.dtype))\n",
        "    self.supports_masking = True\n",
        "\n",
        "    def call(self, inputs):\n",
        "      batch_max_length = tf.shape(inputs)[1]\n",
        "      return inputs + self.pos_encodings[:, :batch_max_length]"
      ],
      "metadata": {
        "id": "7ZvaC7EES6da"
      },
      "execution_count": null,
      "outputs": []
    },
    {
      "cell_type": "markdown",
      "source": [
        "Alternatively, we can use fixed, non-trainable positional encodings:"
      ],
      "metadata": {
        "id": "wftGtxPEHyNT"
      }
    },
    {
      "cell_type": "code",
      "source": [
        "# # Adding positional encoding to the encoder's inputs\n",
        "# pos_embed_layer = PositionalEncoding(max_token_size=max_token_length, embed_size=embed_size)\n",
        "\n",
        "# # Now passing the encoder and decoder's embedding to pos_embed_layer respectively\n",
        "# encoder_inputs = pos_embed_layer(encoder_embeddings)\n",
        "# decoder_inputs = pos_embed_layer(decoder_embeddings)"
      ],
      "metadata": {
        "id": "wm-naBpKWfmf"
      },
      "execution_count": null,
      "outputs": []
    },
    {
      "cell_type": "markdown",
      "source": [
        "### Encoder of the Transformer model"
      ],
      "metadata": {
        "id": "LClJKGrJPhpz"
      }
    },
    {
      "cell_type": "code",
      "source": [
        "# Creating the Encoder of the Transformer\n",
        "\n",
        "N = 3 # as in the original paper\n",
        "num_heads = 8   # It is used to set the number of parallel attentions used by the multi-head attention layer, generally lies between 12 to 100.\n",
        "dropout_rate = 0.1\n",
        "n_units = 128 # For the first dense layer in each Feedforward block\n",
        "encoder_pad_mask = tf.math.not_equal(encoder_input_ids, 0)[:, tf.newaxis]\n",
        "Z = encoder_inputs\n",
        "\n",
        "for _ in range(N):\n",
        "  skip = Z\n",
        "  attention_layer = tf.keras.layers.MultiHeadAttention(num_heads=num_heads,\n",
        "                                                       key_dim=embed_size,\n",
        "                                                       dropout=dropout_rate)\n",
        "  Z = attention_layer(Z, value=Z, attention_mask=encoder_pad_mask)\n",
        "  Z = tf.keras.layers.LayerNormalization()(tf.keras.layers.Add()([Z, skip]))\n",
        "\n",
        "  skip = Z # Update the value of skip with Z\n",
        "  Z = tf.keras.layers.Dense(units=n_units, activation=\"relu\")(Z)\n",
        "  Z = tf.keras.layers.Dense(units=embed_size)(Z)\n",
        "  Z = tf.keras.layers.Dropout(dropout_rate)(Z)\n",
        "  Z = tf.keras.layers.LayerNormalization()(tf.keras.layers.Add()([Z, skip]))"
      ],
      "metadata": {
        "id": "j3azWirGYy4o"
      },
      "execution_count": null,
      "outputs": []
    },
    {
      "cell_type": "markdown",
      "source": [
        "### Decoder of the Transformer model"
      ],
      "metadata": {
        "id": "en5BZC8hPml1"
      }
    },
    {
      "cell_type": "code",
      "source": [
        "decoder_pad_mask = tf.math.not_equal(decoder_input_ids, 0)[:, tf.newaxis]\n",
        "causal_mask = tf.linalg.band_part(tf.ones((batch_max_len_decoder, batch_max_len_decoder), tf.bool), -1, 0)"
      ],
      "metadata": {
        "id": "LvI82SGyespJ"
      },
      "execution_count": null,
      "outputs": []
    },
    {
      "cell_type": "code",
      "source": [
        "# Creating the Decoder of the Transformer\n",
        "encoder_outputs = Z # Saving the encoder's final output\n",
        "Z = decoder_inputs  # Decoder start's with it's own inputs\n",
        "\n",
        "for _ in range(N):\n",
        "  skip = Z\n",
        "  masked_attention = tf.keras.layers.MultiHeadAttention(num_heads=num_heads,\n",
        "                                                        key_dim=embed_size,\n",
        "                                                        dropout=dropout_rate)\n",
        "  Z = masked_attention(Z, value=Z, attention_mask=causal_mask & decoder_pad_mask)\n",
        "  X = tf.keras.layers.LayerNormalization()(tf.keras.layers.Add()([Z, skip]))\n",
        "\n",
        "  skip = Z # Updating the skip value with updated Z\n",
        "  attention_layer = tf.keras.layers.MultiHeadAttention(num_heads=num_heads,\n",
        "                                                       key_dim=embed_size,\n",
        "                                                       dropout=dropout_rate)\n",
        "  Z = attention_layer(Z, value=encoder_outputs, attention_mask=encoder_pad_mask)\n",
        "  Z = tf.keras.layers.LayerNormalization()(tf.keras.layers.Add()([Z, skip]))\n",
        "\n",
        "  skip = Z\n",
        "  Z = tf.keras.layers.Dense(units=n_units, activation=\"relu\")(Z)\n",
        "  Z = tf.keras.layers.Dense(units=embed_size)(Z)\n",
        "  Z = tf.keras.layers.LayerNormalization()(tf.keras.layers.Add()([Z, skip]))"
      ],
      "metadata": {
        "id": "xKVT2GaJXRuy"
      },
      "execution_count": null,
      "outputs": []
    },
    {
      "cell_type": "code",
      "source": [
        "# Crating output layer\n",
        "output_y_prob = tf.keras.layers.Dense(units=vocab_size, activation=\"softmax\")(Z)\n",
        "\n",
        "# Creating the model\n",
        "model_3 = tf.keras.models.Model(inputs=[encoder_inputss, decoder_inputss],\n",
        "                         outputs=[output_y_prob])\n",
        "\n",
        "# Compile the model\n",
        "model_3.compile(loss=tf.keras.losses.SparseCategoricalCrossentropy(),\n",
        "                optimizer=tf.keras.optimizers.Nadam(),\n",
        "                metrics=[\"accuracy\"])\n",
        "\n",
        "# Getting the summary\n",
        "model_3.summary()"
      ],
      "metadata": {
        "id": "1O63HKvGfRQE"
      },
      "execution_count": null,
      "outputs": []
    },
    {
      "cell_type": "markdown",
      "source": [
        "### Fitting the Transformer model on the Training dataset set and validating it on the 10% Test dataset"
      ],
      "metadata": {
        "id": "LhKKT_WQPyU5"
      }
    },
    {
      "cell_type": "code",
      "source": [
        "# Fit the model\n",
        "history_3 = model_3.fit(X_train_dataset,\n",
        "                        epochs=3,\n",
        "                        steps_per_epoch=int(0.01 * len(X_train_dataset)),\n",
        "                        validation_data=X_valid_dataset,\n",
        "                        validation_steps=int(0.01 * len(X_valid_dataset)))\n",
        "\n",
        "# history_3 = model_3.fit((X_train, X_train_dec),\n",
        "#                         y_train,\n",
        "#                         epochs=3,\n",
        "#                         steps_per_epoch=int(0.05 * len(X_train_dataset)),\n",
        "#                         validation_data=((X_valid, X_valid_dec), y_valid),\n",
        "#                         validation_steps=int(0.01 * len(X_valid_dataset)))"
      ],
      "metadata": {
        "id": "6stZ54XogbwB"
      },
      "execution_count": null,
      "outputs": []
    },
    {
      "cell_type": "markdown",
      "source": [
        "### Making prediction"
      ],
      "metadata": {
        "id": "G-OEIt_GQBHZ"
      }
    },
    {
      "cell_type": "code",
      "source": [
        "translate(\"I love hindi\", model_3), #eng_sentences[0]"
      ],
      "metadata": {
        "id": "9MKVF9h2H5qS"
      },
      "execution_count": null,
      "outputs": []
    },
    {
      "cell_type": "code",
      "source": [
        "sentence_eng = \"application and accessibility\"\n",
        "\n",
        "translation = \"\"\n",
        "for word in range(max_token_length): # Number of token in each sentences\n",
        "  X = np.array([sentence_eng])  # Encoder input\n",
        "  # print(X)\n",
        "  X_dec = np.array([\"startofseq\" + translation])  # Decoder input\n",
        "  print(X_dec)\n",
        "  y_proba = model_3.predict((X, X_dec))[0, word]  # last token's probability\n",
        "  # print(y_proba)\n",
        "  predicted_word_id = np.argmax(y_proba)\n",
        "  # print(predicted_word_id)\n",
        "  predicted_word = text_vec_hindi.get_vocabulary()[predicted_word_id]\n",
        "  # print(predicted_word)\n",
        "  if predicted_word == \"endofseq\":\n",
        "    break\n",
        "  translation += \" \" + predicted_word"
      ],
      "metadata": {
        "id": "D_hxCwEumCBW"
      },
      "execution_count": null,
      "outputs": []
    },
    {
      "cell_type": "code",
      "source": [
        "# translation, y_proba[0],\n",
        "pred = model_3.predict((X, X_dec))\n",
        "translation"
      ],
      "metadata": {
        "id": "myQG3P1by7L6"
      },
      "execution_count": null,
      "outputs": []
    },
    {
      "cell_type": "code",
      "source": [
        "pred.shape, pred.ndim, pred[0, 1]"
      ],
      "metadata": {
        "id": "n3_WUVPsz-Mc"
      },
      "execution_count": null,
      "outputs": []
    },
    {
      "cell_type": "code",
      "source": [
        "arr = np.array([[[1, 2, 3],\n",
        "                 [4, 5, 6],\n",
        "                 [7, 8, 9]],\n",
        "                [[11, 12, 13],\n",
        "                 [14, 15, 16],\n",
        "                 [17, 18, 19]]])\n",
        "\n",
        "arr[0][1], arr[0, 1]"
      ],
      "metadata": {
        "id": "2IPwp46G22IK"
      },
      "execution_count": null,
      "outputs": []
    },
    {
      "cell_type": "code",
      "source": [],
      "metadata": {
        "id": "eDYTshR35dTK"
      },
      "execution_count": null,
      "outputs": []
    }
  ],
  "metadata": {
    "accelerator": "GPU",
    "colab": {
      "provenance": [],
      "toc_visible": true
    },
    "kernelspec": {
      "display_name": "Python 3",
      "name": "python3"
    },
    "language_info": {
      "name": "python"
    }
  },
  "nbformat": 4,
  "nbformat_minor": 0
}