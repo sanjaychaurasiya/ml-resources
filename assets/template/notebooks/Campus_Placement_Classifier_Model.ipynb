{
  "nbformat": 4,
  "nbformat_minor": 0,
  "metadata": {
    "colab": {
      "provenance": []
    },
    "kernelspec": {
      "name": "python3",
      "display_name": "Python 3"
    },
    "language_info": {
      "name": "python"
    }
  },
  "cells": [
    {
      "cell_type": "markdown",
      "source": [
        "# Campus Recruitment Model\n"
      ],
      "metadata": {
        "id": "ZecI9McMK5PI"
      }
    },
    {
      "cell_type": "markdown",
      "source": [
        "## Importing the libraries\n"
      ],
      "metadata": {
        "id": "jQQXWrt3LCu0"
      }
    },
    {
      "cell_type": "code",
      "execution_count": null,
      "metadata": {
        "id": "vlxoTTLIJiqU"
      },
      "outputs": [],
      "source": [
        "import numpy as np\n",
        "import pandas as pd\n",
        "import matplotlib.pyplot as plt"
      ]
    },
    {
      "cell_type": "markdown",
      "source": [
        "## Importing the datasets"
      ],
      "metadata": {
        "id": "LKqtFbe5LPEx"
      }
    },
    {
      "cell_type": "code",
      "source": [
        "dataset = pd.read_csv(\"Placement_Data_Full_Class.csv\")\n",
        "X = dataset.iloc[:, 1:-2].values\n",
        "y = dataset.iloc[:, -2].values"
      ],
      "metadata": {
        "id": "IfUgE5OKLRoD"
      },
      "execution_count": null,
      "outputs": []
    },
    {
      "cell_type": "code",
      "source": [
        "print(X[0])"
      ],
      "metadata": {
        "colab": {
          "base_uri": "https://localhost:8080/"
        },
        "id": "JE_fJKtIOHfe",
        "outputId": "01844efa-2a25-4a93-e1ae-ec8959363c79"
      },
      "execution_count": null,
      "outputs": [
        {
          "output_type": "stream",
          "name": "stdout",
          "text": [
            "['M' 67.0 'Others' 91.0 'Others' 'Commerce' 58.0 'Sci&Tech' 'No' 55.0\n",
            " 'Mkt&HR' 58.8]\n"
          ]
        }
      ]
    },
    {
      "cell_type": "code",
      "source": [
        "print(y)"
      ],
      "metadata": {
        "colab": {
          "base_uri": "https://localhost:8080/"
        },
        "id": "fiAV4ozYOHi-",
        "outputId": "a5eb4158-d322-419e-b6d8-b66164cea398"
      },
      "execution_count": null,
      "outputs": [
        {
          "output_type": "stream",
          "name": "stdout",
          "text": [
            "['Placed' 'Placed' 'Placed' 'Not Placed' 'Placed' 'Not Placed'\n",
            " 'Not Placed' 'Placed' 'Placed' 'Not Placed' 'Placed' 'Placed'\n",
            " 'Not Placed' 'Placed' 'Not Placed' 'Placed' 'Placed' 'Not Placed'\n",
            " 'Not Placed' 'Placed' 'Placed' 'Placed' 'Placed' 'Placed' 'Placed'\n",
            " 'Not Placed' 'Placed' 'Placed' 'Placed' 'Not Placed' 'Placed'\n",
            " 'Not Placed' 'Placed' 'Placed' 'Not Placed' 'Placed' 'Not Placed'\n",
            " 'Placed' 'Placed' 'Placed' 'Placed' 'Not Placed' 'Not Placed' 'Placed'\n",
            " 'Placed' 'Not Placed' 'Not Placed' 'Placed' 'Placed' 'Not Placed'\n",
            " 'Placed' 'Not Placed' 'Not Placed' 'Placed' 'Placed' 'Placed' 'Placed'\n",
            " 'Placed' 'Placed' 'Placed' 'Placed' 'Placed' 'Placed' 'Not Placed'\n",
            " 'Placed' 'Not Placed' 'Placed' 'Placed' 'Not Placed' 'Placed' 'Placed'\n",
            " 'Placed' 'Placed' 'Placed' 'Placed' 'Not Placed' 'Placed' 'Placed'\n",
            " 'Placed' 'Not Placed' 'Placed' 'Placed' 'Not Placed' 'Placed' 'Placed'\n",
            " 'Placed' 'Placed' 'Not Placed' 'Placed' 'Placed' 'Placed' 'Not Placed'\n",
            " 'Placed' 'Not Placed' 'Placed' 'Placed' 'Placed' 'Not Placed' 'Placed'\n",
            " 'Not Placed' 'Not Placed' 'Placed' 'Placed' 'Placed' 'Placed'\n",
            " 'Not Placed' 'Not Placed' 'Placed' 'Placed' 'Not Placed' 'Placed'\n",
            " 'Not Placed' 'Placed' 'Placed' 'Placed' 'Placed' 'Placed' 'Placed'\n",
            " 'Placed' 'Placed' 'Not Placed' 'Placed' 'Placed' 'Placed' 'Placed'\n",
            " 'Placed' 'Placed' 'Placed' 'Placed' 'Placed' 'Not Placed' 'Placed'\n",
            " 'Placed' 'Placed' 'Placed' 'Placed' 'Not Placed' 'Placed' 'Placed'\n",
            " 'Placed' 'Placed' 'Not Placed' 'Placed' 'Placed' 'Not Placed' 'Placed'\n",
            " 'Placed' 'Placed' 'Placed' 'Not Placed' 'Placed' 'Placed' 'Placed'\n",
            " 'Placed' 'Placed' 'Not Placed' 'Placed' 'Placed' 'Not Placed'\n",
            " 'Not Placed' 'Placed' 'Not Placed' 'Placed' 'Placed' 'Placed'\n",
            " 'Not Placed' 'Placed' 'Not Placed' 'Not Placed' 'Not Placed' 'Not Placed'\n",
            " 'Placed' 'Placed' 'Not Placed' 'Placed' 'Not Placed' 'Placed' 'Placed'\n",
            " 'Placed' 'Not Placed' 'Placed' 'Not Placed' 'Not Placed' 'Placed'\n",
            " 'Not Placed' 'Placed' 'Not Placed' 'Placed' 'Not Placed' 'Not Placed'\n",
            " 'Not Placed' 'Placed' 'Placed' 'Placed' 'Not Placed' 'Placed' 'Placed'\n",
            " 'Placed' 'Not Placed' 'Placed' 'Placed' 'Not Placed' 'Placed' 'Placed'\n",
            " 'Placed' 'Placed' 'Not Placed' 'Placed' 'Not Placed' 'Placed' 'Placed'\n",
            " 'Placed' 'Placed' 'Placed' 'Not Placed']\n"
          ]
        }
      ]
    },
    {
      "cell_type": "markdown",
      "source": [
        "## Encoding the datasets"
      ],
      "metadata": {
        "id": "y49IJJw4L5UZ"
      }
    },
    {
      "cell_type": "markdown",
      "source": [
        "### Encoding the y values"
      ],
      "metadata": {
        "id": "tuyp4UxxV278"
      }
    },
    {
      "cell_type": "code",
      "source": [
        "from sklearn.preprocessing import LabelEncoder\n",
        "\n",
        "enc_y = LabelEncoder()\n",
        "y = enc_y.fit_transform(y)\n"
      ],
      "metadata": {
        "id": "U8tiXqO_LXsD"
      },
      "execution_count": null,
      "outputs": []
    },
    {
      "cell_type": "code",
      "source": [
        "print(y)"
      ],
      "metadata": {
        "colab": {
          "base_uri": "https://localhost:8080/"
        },
        "id": "eOVVOFh_NrHY",
        "outputId": "e9f495b1-c787-4176-87a1-42d59ba43b4c"
      },
      "execution_count": null,
      "outputs": [
        {
          "output_type": "stream",
          "name": "stdout",
          "text": [
            "[1 1 1 0 1 0 0 1 1 0 1 1 0 1 0 1 1 0 0 1 1 1 1 1 1 0 1 1 1 0 1 0 1 1 0 1 0\n",
            " 1 1 1 1 0 0 1 1 0 0 1 1 0 1 0 0 1 1 1 1 1 1 1 1 1 1 0 1 0 1 1 0 1 1 1 1 1\n",
            " 1 0 1 1 1 0 1 1 0 1 1 1 1 0 1 1 1 0 1 0 1 1 1 0 1 0 0 1 1 1 1 0 0 1 1 0 1\n",
            " 0 1 1 1 1 1 1 1 1 0 1 1 1 1 1 1 1 1 1 0 1 1 1 1 1 0 1 1 1 1 0 1 1 0 1 1 1\n",
            " 1 0 1 1 1 1 1 0 1 1 0 0 1 0 1 1 1 0 1 0 0 0 0 1 1 0 1 0 1 1 1 0 1 0 0 1 0\n",
            " 1 0 1 0 0 0 1 1 1 0 1 1 1 0 1 1 0 1 1 1 1 0 1 0 1 1 1 1 1 0]\n"
          ]
        }
      ]
    },
    {
      "cell_type": "markdown",
      "source": [
        "### Encoding the X values"
      ],
      "metadata": {
        "id": "5lRp-w1GV9R0"
      }
    },
    {
      "cell_type": "code",
      "source": [
        "from sklearn.preprocessing import LabelEncoder\n",
        "# List of columns to be encoded.\n",
        "# ['gender', 'ssc_b', hsc_b', 'degree_t', 'workex', 'specialization']\n",
        "# cols = [0, 2, 4, 7, 8, 10]\n",
        "# X[cols] = X[cols].apply(ec_X.fit_transform())\n",
        "\n",
        "enc_X = LabelEncoder()\n",
        "X[:, 0] = enc_X.fit_transform(X[:, 0].astype('str'))\n",
        "X[:, 2] = enc_X.fit_transform(X[:, 2])\n",
        "X[:, 4] = enc_X.fit_transform(X[:, 4])\n",
        "X[:, 8] = enc_X.fit_transform(X[:, 8])\n",
        "X[:, 10] = enc_X.fit_transform(X[:, 10])"
      ],
      "metadata": {
        "id": "PuutSQ7lVzkq"
      },
      "execution_count": null,
      "outputs": []
    },
    {
      "cell_type": "code",
      "source": [
        "print(X[:5, :])"
      ],
      "metadata": {
        "colab": {
          "base_uri": "https://localhost:8080/"
        },
        "id": "swp9mFreWRO2",
        "outputId": "54de0bc8-7ff9-46d5-9da9-7752bcb24517"
      },
      "execution_count": null,
      "outputs": [
        {
          "output_type": "stream",
          "name": "stdout",
          "text": [
            "[[1 67.0 1 91.0 1 'Commerce' 58.0 'Sci&Tech' 0 55.0 1 58.8]\n",
            " [1 79.33 0 78.33 1 'Science' 77.48 'Sci&Tech' 1 86.5 0 66.28]\n",
            " [1 65.0 0 68.0 0 'Arts' 64.0 'Comm&Mgmt' 0 75.0 0 57.8]\n",
            " [1 56.0 0 52.0 0 'Science' 52.0 'Sci&Tech' 0 66.0 1 59.43]\n",
            " [1 85.8 0 73.6 0 'Commerce' 73.3 'Comm&Mgmt' 0 96.8 0 55.5]]\n"
          ]
        }
      ]
    },
    {
      "cell_type": "code",
      "source": [
        "# Applying OneHotEncoder\n",
        "from sklearn.preprocessing import OneHotEncoder\n",
        "from sklearn.compose import ColumnTransformer\n",
        "\n",
        "ct = ColumnTransformer(transformers=[('encode', OneHotEncoder(), [5, 7])], remainder='passthrough')\n",
        "X = ct.fit_transform(X)"
      ],
      "metadata": {
        "id": "GXO5HosOWdl2"
      },
      "execution_count": null,
      "outputs": []
    },
    {
      "cell_type": "code",
      "source": [
        "print(X[:5])"
      ],
      "metadata": {
        "colab": {
          "base_uri": "https://localhost:8080/"
        },
        "id": "AW17UtZzYUDG",
        "outputId": "c40438c6-4a3e-4fb2-99d2-bcfbdad0e106"
      },
      "execution_count": null,
      "outputs": [
        {
          "output_type": "stream",
          "name": "stdout",
          "text": [
            "[[0.0 1.0 0.0 0.0 0.0 1.0 1 67.0 1 91.0 1 58.0 0 55.0 1 58.8]\n",
            " [0.0 0.0 1.0 0.0 0.0 1.0 1 79.33 0 78.33 1 77.48 1 86.5 0 66.28]\n",
            " [1.0 0.0 0.0 1.0 0.0 0.0 1 65.0 0 68.0 0 64.0 0 75.0 0 57.8]\n",
            " [0.0 0.0 1.0 0.0 0.0 1.0 1 56.0 0 52.0 0 52.0 0 66.0 1 59.43]\n",
            " [0.0 1.0 0.0 1.0 0.0 0.0 1 85.8 0 73.6 0 73.3 0 96.8 0 55.5]]\n"
          ]
        }
      ]
    },
    {
      "cell_type": "markdown",
      "source": [
        "## Spliting the dataset into train and test set"
      ],
      "metadata": {
        "id": "s6YEhSVgdi04"
      }
    },
    {
      "cell_type": "code",
      "source": [
        "from sklearn.model_selection import train_test_split\n",
        "X_train, X_test, y_train, y_test = train_test_split(X, y, test_size=0.2, random_state=0)"
      ],
      "metadata": {
        "id": "qBXB9cafY7Qx"
      },
      "execution_count": null,
      "outputs": []
    },
    {
      "cell_type": "code",
      "source": [
        "print(X_train)"
      ],
      "metadata": {
        "colab": {
          "base_uri": "https://localhost:8080/"
        },
        "id": "Ru-4qEoDdm4E",
        "outputId": "20fe592f-a4cf-44f3-d9b9-f3be11e21475"
      },
      "execution_count": null,
      "outputs": [
        {
          "output_type": "stream",
          "name": "stdout",
          "text": [
            "[[0.0 1.0 0.0 ... 60.0 0 62.54]\n",
            " [0.0 0.0 1.0 ... 55.6 1 65.63]\n",
            " [1.0 0.0 0.0 ... 80.4 0 71.0]\n",
            " ...\n",
            " [0.0 0.0 1.0 ... 80.0 0 67.05]\n",
            " [0.0 1.0 0.0 ... 78.0 0 54.55]\n",
            " [0.0 1.0 0.0 ... 84.0 1 52.64]]\n"
          ]
        }
      ]
    },
    {
      "cell_type": "code",
      "source": [
        "print(X_test)"
      ],
      "metadata": {
        "colab": {
          "base_uri": "https://localhost:8080/"
        },
        "id": "TfHcW2O5d5jU",
        "outputId": "080b3721-b50e-4dac-ccf7-c5a2dc4bd308"
      },
      "execution_count": null,
      "outputs": [
        {
          "output_type": "stream",
          "name": "stdout",
          "text": [
            "[[0.0 1.0 0.0 0.0 1.0 0.0 0 67.0 0 70.0 0 65.0 0 88.0 1 71.96]\n",
            " [0.0 0.0 1.0 0.0 0.0 1.0 0 79.0 0 76.0 0 65.6 0 58.0 1 55.47]\n",
            " [0.0 0.0 1.0 0.0 0.0 1.0 0 84.0 1 75.0 1 69.0 1 62.0 1 62.36]\n",
            " [0.0 1.0 0.0 1.0 0.0 0.0 0 48.0 0 51.0 0 58.0 1 60.0 1 58.79]\n",
            " [0.0 1.0 0.0 1.0 0.0 0.0 1 80.0 1 80.0 1 72.0 1 63.79 0 66.04]\n",
            " [0.0 1.0 0.0 1.0 0.0 0.0 0 59.0 0 62.0 1 77.5 0 74.0 1 67.0]\n",
            " [0.0 0.0 1.0 1.0 0.0 0.0 0 76.0 0 70.0 0 76.0 1 66.0 0 64.44]\n",
            " [0.0 1.0 0.0 1.0 0.0 0.0 1 67.0 1 63.0 0 72.0 0 56.0 1 60.41]\n",
            " [0.0 0.0 1.0 0.0 0.0 1.0 1 55.0 1 49.8 1 67.25 1 55.0 0 51.58]\n",
            " [0.0 0.0 1.0 0.0 0.0 1.0 1 84.0 1 79.0 1 68.0 1 84.0 0 66.69]\n",
            " [0.0 0.0 1.0 1.0 0.0 0.0 1 60.4 0 66.6 1 65.0 0 71.0 1 52.71]\n",
            " [0.0 0.0 1.0 0.0 0.0 1.0 1 89.4 1 65.66 1 71.25 0 72.0 1 63.23]\n",
            " [0.0 0.0 1.0 0.0 0.0 1.0 1 87.0 0 74.0 0 65.0 1 75.0 1 72.29]\n",
            " [0.0 1.0 0.0 1.0 0.0 0.0 1 58.0 1 61.0 1 61.0 0 58.0 1 53.94]\n",
            " [0.0 1.0 0.0 1.0 0.0 0.0 1 56.6 0 64.8 0 70.2 0 84.27 0 67.2]\n",
            " [0.0 1.0 0.0 1.0 0.0 0.0 1 55.68 1 61.33 1 56.87 0 66.0 1 58.3]\n",
            " [0.0 0.0 1.0 0.0 0.0 1.0 0 79.0 1 61.0 1 75.5 1 70.0 0 68.2]\n",
            " [0.0 0.0 1.0 1.0 0.0 0.0 0 47.0 0 55.0 1 65.0 0 62.0 1 65.04]\n",
            " [0.0 0.0 1.0 0.0 0.0 1.0 1 49.0 1 59.0 1 65.0 1 86.0 0 62.48]\n",
            " [0.0 0.0 1.0 0.0 0.0 1.0 1 67.0 1 63.0 1 64.0 0 60.0 0 61.87]\n",
            " [0.0 0.0 1.0 0.0 0.0 1.0 1 59.96 1 42.16 1 61.26 0 54.48 1 65.48]\n",
            " [0.0 0.0 1.0 1.0 0.0 0.0 1 66.0 0 64.0 0 60.0 0 60.0 1 61.9]\n",
            " [0.0 1.0 0.0 1.0 0.0 0.0 1 62.0 0 72.0 0 65.0 0 67.0 0 56.49]\n",
            " [0.0 1.0 0.0 1.0 0.0 0.0 0 64.0 1 70.2 0 61.0 0 50.0 0 62.5]\n",
            " [1.0 0.0 0.0 1.0 0.0 0.0 1 52.0 1 50.0 1 61.0 0 60.0 0 58.52]\n",
            " [0.0 1.0 0.0 1.0 0.0 0.0 0 63.0 0 66.0 0 64.0 0 68.0 1 64.08]\n",
            " [0.0 0.0 1.0 0.0 1.0 0.0 0 88.0 0 72.0 0 78.0 0 82.0 1 71.43]\n",
            " [0.0 1.0 0.0 1.0 0.0 0.0 0 65.0 0 75.0 0 69.0 1 72.0 0 64.66]\n",
            " [0.0 1.0 0.0 1.0 0.0 0.0 1 62.0 1 63.0 1 64.0 0 67.0 0 57.03]\n",
            " [0.0 1.0 0.0 1.0 0.0 0.0 1 75.0 1 70.29 1 71.0 0 95.0 0 66.94]\n",
            " [0.0 0.0 1.0 0.0 0.0 1.0 1 82.0 0 64.0 0 66.0 1 67.0 0 62.14]\n",
            " [0.0 1.0 0.0 1.0 0.0 0.0 1 61.0 1 70.0 1 64.0 0 68.5 1 59.5]\n",
            " [0.0 1.0 0.0 1.0 0.0 0.0 1 77.67 1 64.89 1 70.67 0 89.0 0 60.39]\n",
            " [0.0 1.0 0.0 1.0 0.0 0.0 0 70.5 0 62.5 1 61.0 0 93.91 0 69.03]\n",
            " [1.0 0.0 0.0 1.0 0.0 0.0 0 47.0 0 59.0 0 64.0 0 78.0 0 61.58]\n",
            " [0.0 1.0 0.0 1.0 0.0 0.0 1 74.2 0 87.6 1 77.25 1 75.2 0 66.06]\n",
            " [0.0 0.0 1.0 1.0 0.0 0.0 0 87.0 1 65.0 1 81.0 1 88.0 0 72.78]\n",
            " [0.0 0.0 1.0 1.0 0.0 0.0 1 53.0 0 63.0 1 60.0 1 70.0 0 53.2]\n",
            " [0.0 1.0 0.0 1.0 0.0 0.0 0 85.0 1 90.0 1 82.0 0 92.0 0 68.03]\n",
            " [0.0 0.0 1.0 0.0 0.0 1.0 1 58.0 1 60.0 1 72.0 0 74.0 0 53.62]\n",
            " [0.0 0.0 1.0 0.0 0.0 1.0 1 61.08 1 50.0 1 54.0 0 71.0 0 65.69]\n",
            " [0.0 0.0 1.0 0.0 0.0 1.0 1 62.0 0 60.33 1 64.21 0 63.0 1 60.02]\n",
            " [0.0 1.0 0.0 1.0 0.0 0.0 1 77.0 0 70.0 0 59.0 1 58.0 0 54.43]]\n"
          ]
        }
      ]
    },
    {
      "cell_type": "code",
      "source": [
        "print(y_train)"
      ],
      "metadata": {
        "colab": {
          "base_uri": "https://localhost:8080/"
        },
        "id": "-Xi10fpKd7QA",
        "outputId": "2ff975ad-4f30-42b0-b69a-2e8ee49a45b5"
      },
      "execution_count": null,
      "outputs": [
        {
          "output_type": "stream",
          "name": "stdout",
          "text": [
            "[1 1 1 1 1 0 1 1 1 1 1 1 0 1 1 1 0 1 1 1 1 1 0 0 1 1 1 1 0 1 1 0 1 1 0 0 1\n",
            " 0 0 1 1 1 1 1 0 1 1 0 1 0 1 1 0 1 1 1 1 0 1 1 1 1 1 0 0 1 1 1 0 0 1 0 1 1\n",
            " 1 1 1 1 1 1 1 0 1 0 1 1 1 1 1 0 1 1 1 0 0 1 1 0 0 1 1 1 0 0 1 1 1 1 1 0 1\n",
            " 0 0 0 0 1 0 0 1 1 1 1 1 1 0 1 1 1 1 0 1 1 0 1 0 1 1 1 0 1 0 0 0 0 1 1 1 1\n",
            " 1 0 0 1 1 1 1 1 1 1 1 1 1 0 0 1 0 1 1 1 1 1 1 1]\n"
          ]
        }
      ]
    },
    {
      "cell_type": "code",
      "source": [
        "print(y_test)"
      ],
      "metadata": {
        "colab": {
          "base_uri": "https://localhost:8080/"
        },
        "id": "LrlB4nY9d8Up",
        "outputId": "ab761007-427e-4420-918d-6e34907b5991"
      },
      "execution_count": null,
      "outputs": [
        {
          "output_type": "stream",
          "name": "stdout",
          "text": [
            "[0 1 1 0 1 0 1 1 0 1 1 1 1 1 1 1 1 0 1 0 0 0 1 0 0 0 1 1 1 1 1 0 1 0 0 1 1\n",
            " 1 1 1 0 0 1]\n"
          ]
        }
      ]
    },
    {
      "cell_type": "markdown",
      "source": [
        "## Feature Scaling"
      ],
      "metadata": {
        "id": "4YXfrMEReA5B"
      }
    },
    {
      "cell_type": "code",
      "source": [
        "from sklearn.preprocessing import StandardScaler\n",
        "sc = StandardScaler()\n",
        "X_train = sc.fit_transform(X_train)\n",
        "X_test = sc.transform(X_test)"
      ],
      "metadata": {
        "id": "9bUDqe8qd9za"
      },
      "execution_count": null,
      "outputs": []
    },
    {
      "cell_type": "code",
      "source": [
        "print(X_train)"
      ],
      "metadata": {
        "colab": {
          "base_uri": "https://localhost:8080/"
        },
        "id": "dFQ9H6NReQUx",
        "outputId": "8ab8195e-4d18-4088-8f48-721a72c4a129"
      },
      "execution_count": null,
      "outputs": [
        {
          "output_type": "stream",
          "name": "stdout",
          "text": [
            "[[-0.23497813  0.92166283 -0.82841687 ... -0.91848631 -0.90029235\n",
            "   0.05194371]\n",
            " [-0.23497813 -1.08499548  1.20712172 ... -1.24217438  1.1107503\n",
            "   0.57709192]\n",
            " [ 4.25571511 -1.08499548 -0.82841687 ...  0.58224933 -0.90029235\n",
            "   1.48972813]\n",
            " ...\n",
            " [-0.23497813 -1.08499548  1.20712172 ...  0.55282314 -0.90029235\n",
            "   0.81842217]\n",
            " [-0.23497813  0.92166283 -0.82841687 ...  0.40569219 -0.90029235\n",
            "  -1.30596381]\n",
            " [-0.23497813  0.92166283 -0.82841687 ...  0.84708503  1.1107503\n",
            "  -1.63056998]]\n"
          ]
        }
      ]
    },
    {
      "cell_type": "code",
      "source": [
        "print(X_test)"
      ],
      "metadata": {
        "colab": {
          "base_uri": "https://localhost:8080/"
        },
        "id": "d91ssekgeSK_",
        "outputId": "affc8311-e309-48df-f3ed-92a418224836"
      },
      "execution_count": null,
      "outputs": [
        {
          "output_type": "stream",
          "name": "stdout",
          "text": [
            "[[-0.23497813  0.92166283 -0.82841687 -1.47823719  4.25571511 -0.59525684\n",
            "  -1.3662601  -0.02559788 -0.90029235  0.31034799 -1.23669388 -0.16298284\n",
            "  -0.72258141  1.14134691  1.1107503   1.65288098]\n",
            " [-0.23497813 -1.08499548  1.20712172 -1.47823719 -0.23497813  1.67994709\n",
            "  -1.3662601   1.12949664 -0.90029235  0.84725164 -1.23669388 -0.08327934\n",
            "  -0.72258141 -1.06561725  1.1107503  -1.149609  ]\n",
            " [-0.23497813 -1.08499548  1.20712172 -1.47823719 -0.23497813  1.67994709\n",
            "  -1.3662601   1.61078603  1.1107503   0.7577677   0.80860754  0.36837381\n",
            "   1.38392711 -0.77135536  1.1107503   0.02135255]\n",
            " [-0.23497813  0.92166283 -0.82841687  0.67648143 -0.23497813 -0.59525684\n",
            "  -1.3662601  -1.85449754 -0.90029235 -1.38984687 -1.23669388 -1.09285696\n",
            "   1.38392711 -0.91848631  1.1107503  -0.58537208]\n",
            " [-0.23497813  0.92166283 -0.82841687  0.67648143 -0.23497813 -0.59525684\n",
            "   0.73192505  1.22575452  1.1107503   1.2051874   0.80860754  0.76689129\n",
            "   1.38392711 -0.63967317 -0.90029235  0.64677178]\n",
            " [-0.23497813  0.92166283 -0.82841687  0.67648143 -0.23497813 -0.59525684\n",
            "  -1.3662601  -0.7956609  -0.90029235 -0.40552353  0.80860754  1.49750667\n",
            "  -0.72258141  0.1114303   1.1107503   0.80992462]\n",
            " [-0.23497813 -1.08499548  1.20712172  0.67648143 -0.23497813 -0.59525684\n",
            "  -1.3662601   0.84072301 -0.90029235  0.31034799 -1.23669388  1.29824793\n",
            "   1.38392711 -0.47709347 -0.90029235  0.37485038]\n",
            " [-0.23497813  0.92166283 -0.82841687  0.67648143 -0.23497813 -0.59525684\n",
            "   0.73192505 -0.02559788  1.1107503  -0.31603959 -1.23669388  0.76689129\n",
            "  -0.72258141 -1.21274819  1.1107503  -0.31005166]\n",
            " [-0.23497813 -1.08499548  1.20712172 -1.47823719 -0.23497813  1.67994709\n",
            "   0.73192505 -1.1806924   1.1107503  -1.4972276   0.80860754  0.13590527\n",
            "   1.38392711 -1.28631367 -0.90029235 -1.81071791]\n",
            " [-0.23497813 -1.08499548  1.20712172 -1.47823719 -0.23497813  1.67994709\n",
            "   0.73192505  1.61078603  1.1107503   1.11570346  0.80860754  0.23553464\n",
            "   1.38392711  0.84708503 -0.90029235  0.75723985]\n",
            " [-0.23497813 -1.08499548  1.20712172  0.67648143 -0.23497813 -0.59525684\n",
            "   0.73192505 -0.66089987 -0.90029235  0.0061026   0.80860754 -0.16298284\n",
            "  -0.72258141 -0.10926611  1.1107503  -1.61867342]\n",
            " [-0.23497813 -1.08499548  1.20712172 -1.47823719 -0.23497813  1.67994709\n",
            "   0.73192505  2.13057857  1.1107503  -0.07801231  0.80860754  0.66726192\n",
            "  -0.72258141 -0.03570064  1.1107503   0.16920981]\n",
            " [-0.23497813 -1.08499548  1.20712172 -1.47823719 -0.23497813  1.67994709\n",
            "   0.73192505  1.89955966 -0.90029235  0.66828376 -1.23669388 -0.16298284\n",
            "   1.38392711  0.18499578  1.1107503   1.70896477]\n",
            " [-0.23497813  0.92166283 -0.82841687  0.67648143 -0.23497813 -0.59525684\n",
            "   0.73192505 -0.89191877  1.1107503  -0.49500747  0.80860754 -0.69433948\n",
            "  -0.72258141 -1.06561725  1.1107503  -1.40963384]\n",
            " [-0.23497813  0.92166283 -0.82841687  0.67648143 -0.23497813 -0.59525684\n",
            "   0.73192505 -1.0266798  -0.90029235 -0.1549685  -1.23669388  0.5277808\n",
            "  -0.72258141  0.8669477  -0.90029235  0.8439148 ]\n",
            " [-0.23497813  0.92166283 -0.82841687  0.67648143 -0.23497813 -0.59525684\n",
            "   0.73192505 -1.11523705  1.1107503  -0.46547777  0.80860754 -1.24296522\n",
            "  -0.72258141 -0.47709347  1.1107503  -0.66864802]\n",
            " [-0.23497813 -1.08499548  1.20712172 -1.47823719 -0.23497813  1.67994709\n",
            "  -1.3662601   1.12949664  1.1107503  -0.49500747  0.80860754  1.23182835\n",
            "   1.38392711 -0.18283158 -0.90029235  1.01386568]\n",
            " [-0.23497813 -1.08499548  1.20712172  0.67648143 -0.23497813 -0.59525684\n",
            "  -1.3662601  -1.95075542 -0.90029235 -1.03191111  0.80860754 -0.16298284\n",
            "  -0.72258141 -0.77135536  1.1107503   0.4768209 ]\n",
            " [-0.23497813 -1.08499548  1.20712172 -1.47823719 -0.23497813  1.67994709\n",
            "   0.73192505 -1.75823967  1.1107503  -0.67397535  0.80860754 -0.16298284\n",
            "   1.38392711  0.99421597 -0.90029235  0.04174665]\n",
            " [-0.23497813 -1.08499548  1.20712172 -1.47823719 -0.23497813  1.67994709\n",
            "   0.73192505 -0.02559788  1.1107503  -0.31603959  0.80860754 -0.295822\n",
            "  -0.72258141 -0.91848631 -0.90029235 -0.06192338]\n",
            " [-0.23497813 -1.08499548  1.20712172 -1.47823719 -0.23497813  1.67994709\n",
            "   0.73192505 -0.70325333  1.1107503  -2.18088491  0.80860754 -0.6598013\n",
            "  -0.72258141 -1.32456771  1.1107503   0.55159929]\n",
            " [-0.23497813 -1.08499548  1.20712172  0.67648143 -0.23497813 -0.59525684\n",
            "   0.73192505 -0.12185576 -0.90029235 -0.22655565 -1.23669388 -0.82717864\n",
            "  -0.72258141 -0.91848631  1.1107503  -0.05682485]\n",
            " [-0.23497813  0.92166283 -0.82841687  0.67648143 -0.23497813 -0.59525684\n",
            "   0.73192505 -0.50688726 -0.90029235  0.48931588 -1.23669388 -0.16298284\n",
            "  -0.72258141 -0.403528   -0.90029235 -0.9762591 ]\n",
            " [-0.23497813  0.92166283 -0.82841687  0.67648143 -0.23497813 -0.59525684\n",
            "  -1.3662601  -0.31437151  1.1107503   0.32824478 -1.23669388 -0.69433948\n",
            "  -0.72258141 -1.65414103 -0.90029235  0.04514567]\n",
            " [ 4.25571511 -1.08499548 -0.82841687  0.67648143 -0.23497813 -0.59525684\n",
            "   0.73192505 -1.46946604  1.1107503  -1.47933081  0.80860754 -0.69433948\n",
            "  -0.72258141 -0.91848631 -0.90029235 -0.63125882]\n",
            " [-0.23497813  0.92166283 -0.82841687  0.67648143 -0.23497813 -0.59525684\n",
            "  -1.3662601  -0.41062939 -0.90029235 -0.04758777 -1.23669388 -0.295822\n",
            "  -0.72258141 -0.32996253  1.1107503   0.31366806]\n",
            " [-0.23497813 -1.08499548  1.20712172 -1.47823719  4.25571511 -0.59525684\n",
            "  -1.3662601   1.99581754 -0.90029235  0.48931588 -1.23669388  1.56392625\n",
            "  -0.72258141  0.69995408  1.1107503   1.56280701]\n",
            " [-0.23497813  0.92166283 -0.82841687  0.67648143 -0.23497813 -0.59525684\n",
            "  -1.3662601  -0.21811363 -0.90029235  0.7577677  -1.23669388  0.36837381\n",
            "   1.38392711 -0.03570064 -0.90029235  0.41223957]\n",
            " [-0.23497813  0.92166283 -0.82841687  0.67648143 -0.23497813 -0.59525684\n",
            "   0.73192505 -0.50688726  1.1107503  -0.31603959  0.80860754 -0.295822\n",
            "  -0.72258141 -0.403528   -0.90029235 -0.88448563]\n",
            " [-0.23497813  0.92166283 -0.82841687  0.67648143 -0.23497813 -0.59525684\n",
            "   0.73192505  0.74446514  1.1107503   0.33629834  0.80860754  0.63405213\n",
            "  -0.72258141  1.65630522 -0.90029235  0.79972757]\n",
            " [-0.23497813 -1.08499548  1.20712172 -1.47823719 -0.23497813  1.67994709\n",
            "   0.73192505  1.41827028 -0.90029235 -0.22655565 -1.23669388 -0.03014368\n",
            "   1.38392711 -0.403528   -0.90029235 -0.01603664]\n",
            " [-0.23497813  0.92166283 -0.82841687  0.67648143 -0.23497813 -0.59525684\n",
            "   0.73192505 -0.60314514  1.1107503   0.31034799  0.80860754 -0.295822\n",
            "  -0.72258141 -0.29317979  1.1107503  -0.46470696]\n",
            " [-0.23497813  0.92166283 -0.82841687  0.67648143 -0.23497813 -0.59525684\n",
            "   0.73192505  1.00147367  1.1107503  -0.14691494  0.80860754  0.5902152\n",
            "  -0.72258141  1.21491239 -0.90029235 -0.31345068]\n",
            " [-0.23497813  0.92166283 -0.82841687  0.67648143 -0.23497813 -0.59525684\n",
            "  -1.3662601   0.31130469 -0.90029235 -0.36078156  0.80860754 -0.69433948\n",
            "  -0.72258141  1.57611886 -0.90029235  1.15492491]\n",
            " [ 4.25571511 -1.08499548 -0.82841687  0.67648143 -0.23497813 -0.59525684\n",
            "  -1.3662601  -1.95075542 -0.90029235 -0.67397535 -1.23669388 -0.295822\n",
            "  -0.72258141  0.40569219 -0.90029235 -0.11120914]\n",
            " [-0.23497813  0.92166283 -0.82841687  0.67648143 -0.23497813 -0.59525684\n",
            "   0.73192505  0.66745884 -0.90029235  1.88526535  0.80860754  1.46429688\n",
            "   1.38392711  0.19970887 -0.90029235  0.6501708 ]\n",
            " [-0.23497813 -1.08499548  1.20712172  0.67648143 -0.23497813 -0.59525684\n",
            "  -1.3662601   1.89955966  1.1107503  -0.13707171  0.80860754  1.96244374\n",
            "   1.38392711  1.14134691 -0.90029235  1.7922407 ]\n",
            " [-0.23497813 -1.08499548  1.20712172  0.67648143 -0.23497813 -0.59525684\n",
            "   0.73192505 -1.37320816 -0.90029235 -0.31603959  0.80860754 -0.82717864\n",
            "   1.38392711 -0.18283158 -0.90029235 -1.53539749]\n",
            " [-0.23497813  0.92166283 -0.82841687  0.67648143 -0.23497813 -0.59525684\n",
            "  -1.3662601   1.70704391  1.1107503   2.1000268   0.80860754  2.0952829\n",
            "  -0.72258141  1.4356088  -0.90029235  0.98497403]\n",
            " [-0.23497813 -1.08499548  1.20712172 -1.47823719 -0.23497813  1.67994709\n",
            "   0.73192505 -0.89191877  1.1107503  -0.58449141  0.80860754  0.76689129\n",
            "  -0.72258141  0.1114303  -0.90029235 -1.46401812]\n",
            " [-0.23497813 -1.08499548  1.20712172 -1.47823719 -0.23497813  1.67994709\n",
            "   0.73192505 -0.59544451  1.1107503  -1.47933081  0.80860754 -1.62421361\n",
            "  -0.72258141 -0.10926611 -0.90029235  0.58728897]\n",
            " [-0.23497813 -1.08499548  1.20712172 -1.47823719 -0.23497813  1.67994709\n",
            "   0.73192505 -0.50688726 -0.90029235 -0.55496171  0.80860754 -0.26792577\n",
            "  -0.72258141 -0.69778989  1.1107503  -0.37633251]\n",
            " [-0.23497813  0.92166283 -0.82841687  0.67648143 -0.23497813 -0.59525684\n",
            "   0.73192505  0.93698089 -0.90029235  0.31034799 -1.23669388 -0.9600178\n",
            "   1.38392711 -1.06561725 -0.90029235 -1.32635791]]\n"
          ]
        }
      ]
    },
    {
      "cell_type": "markdown",
      "source": [
        "## Training the Logistic Regression Model on the Training set"
      ],
      "metadata": {
        "id": "amXCDXqBealY"
      }
    },
    {
      "cell_type": "code",
      "source": [
        "from sklearn.linear_model import LogisticRegression\n",
        "classifier = LogisticRegression()\n",
        "classifier.fit(X_train, y_train)"
      ],
      "metadata": {
        "colab": {
          "base_uri": "https://localhost:8080/"
        },
        "id": "0ATNxpm4eTwf",
        "outputId": "57b06ef8-0659-461e-8a05-3c767f69105e"
      },
      "execution_count": null,
      "outputs": [
        {
          "output_type": "execute_result",
          "data": {
            "text/plain": [
              "LogisticRegression()"
            ]
          },
          "metadata": {},
          "execution_count": 69
        }
      ]
    },
    {
      "cell_type": "markdown",
      "source": [
        "## Predicting a Single Result"
      ],
      "metadata": {
        "id": "9Zwym5MBfK8Y"
      }
    },
    {
      "cell_type": "code",
      "source": [
        "# classifier.predict([[0.0 1.0 0.0, 0.0 0.0 1.0, 1, 67.0, 1, 91.0, 1, 58.0, 0, 55.0, 1, 58.8]])"
      ],
      "metadata": {
        "id": "gPmdzy4hfKR-"
      },
      "execution_count": null,
      "outputs": []
    },
    {
      "cell_type": "code",
      "source": [],
      "metadata": {
        "id": "rEwLxFAAe5O0"
      },
      "execution_count": null,
      "outputs": []
    },
    {
      "cell_type": "markdown",
      "source": [
        "## Predicting the test set result"
      ],
      "metadata": {
        "id": "oo6K1XV1f8cY"
      }
    },
    {
      "cell_type": "code",
      "source": [
        "y_pred = classifier.predict(X_test)\n",
        "print(np.concatenate((y_pred.reshape(len(y_pred), 1), y_test.reshape(len(y_test), 1)), 1))"
      ],
      "metadata": {
        "colab": {
          "base_uri": "https://localhost:8080/"
        },
        "id": "DsL30w5VgDLf",
        "outputId": "aff74b01-7ace-4492-a031-e9f7f1e2b114"
      },
      "execution_count": null,
      "outputs": [
        {
          "output_type": "stream",
          "name": "stdout",
          "text": [
            "[[0 0]\n",
            " [1 1]\n",
            " [1 1]\n",
            " [0 0]\n",
            " [1 1]\n",
            " [0 0]\n",
            " [1 1]\n",
            " [1 1]\n",
            " [1 0]\n",
            " [1 1]\n",
            " [1 1]\n",
            " [1 1]\n",
            " [1 1]\n",
            " [1 1]\n",
            " [0 1]\n",
            " [0 1]\n",
            " [1 1]\n",
            " [0 0]\n",
            " [0 1]\n",
            " [1 0]\n",
            " [0 0]\n",
            " [1 0]\n",
            " [1 1]\n",
            " [1 0]\n",
            " [0 0]\n",
            " [0 0]\n",
            " [1 1]\n",
            " [1 1]\n",
            " [1 1]\n",
            " [1 1]\n",
            " [1 1]\n",
            " [1 0]\n",
            " [1 1]\n",
            " [0 0]\n",
            " [0 0]\n",
            " [1 1]\n",
            " [1 1]\n",
            " [1 1]\n",
            " [1 1]\n",
            " [1 1]\n",
            " [0 0]\n",
            " [0 0]\n",
            " [1 1]]\n"
          ]
        }
      ]
    },
    {
      "cell_type": "markdown",
      "source": [
        "## Making the confusion matrix"
      ],
      "metadata": {
        "id": "qL1n1x7zg6vg"
      }
    },
    {
      "cell_type": "code",
      "source": [
        "from sklearn.metrics import confusion_matrix, accuracy_score\n",
        "cm = confusion_matrix(y_test, y_pred)\n",
        "print(f\"Confusion Matrix:\\n {cm}\")\n",
        "\n",
        "accuracy = accuracy_score(y_test, y_pred)\n",
        "print(f\"Accuracy Score: {accuracy * 100}\")"
      ],
      "metadata": {
        "colab": {
          "base_uri": "https://localhost:8080/"
        },
        "id": "oo84c8dFg30F",
        "outputId": "9e9d7bb6-93d1-4273-929a-23dcf1e2f91f"
      },
      "execution_count": null,
      "outputs": [
        {
          "output_type": "stream",
          "name": "stdout",
          "text": [
            "Confusion Matrix:\n",
            " [[11  5]\n",
            " [ 3 24]]\n",
            "Accuracy Score: 81.3953488372093\n"
          ]
        }
      ]
    }
  ]
}