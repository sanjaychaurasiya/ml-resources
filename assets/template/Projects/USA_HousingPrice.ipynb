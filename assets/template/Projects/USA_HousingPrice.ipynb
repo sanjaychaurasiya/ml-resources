{
  "nbformat": 4,
  "nbformat_minor": 0,
  "metadata": {
    "colab": {
      "provenance": []
    },
    "kernelspec": {
      "name": "python3",
      "display_name": "Python 3"
    },
    "language_info": {
      "name": "python"
    }
  },
  "cells": [
    {
      "cell_type": "markdown",
      "source": [
        "## Importing the libraries"
      ],
      "metadata": {
        "id": "oHv4fbb4t_eR"
      }
    },
    {
      "cell_type": "code",
      "source": [
        "import numpy as np\n",
        "import matplotlib.pyplot as plt\n",
        "import pandas as pd"
      ],
      "metadata": {
        "id": "Za9EuqZNuPAD"
      },
      "execution_count": null,
      "outputs": []
    },
    {
      "cell_type": "markdown",
      "source": [
        "## Importing the dataset"
      ],
      "metadata": {
        "id": "hR9E3tjkuVjH"
      }
    },
    {
      "cell_type": "code",
      "source": [
        "dataset = pd.read_csv('Dummy Marketing and Sales Data.csv')\n",
        "X = dataset.iloc[:, :-1].values\n",
        "y = dataset.iloc[:, -1].values"
      ],
      "metadata": {
        "id": "83-0UFIGuahK"
      },
      "execution_count": null,
      "outputs": []
    },
    {
      "cell_type": "code",
      "source": [
        "print(len(X))\n",
        "print(len(y))"
      ],
      "metadata": {
        "colab": {
          "base_uri": "https://localhost:8080/"
        },
        "id": "VyrbSNuTEcBH",
        "outputId": "8970abac-79be-4ad7-bd98-23e0119c5a93"
      },
      "execution_count": null,
      "outputs": [
        {
          "output_type": "stream",
          "name": "stdout",
          "text": [
            "4572\n",
            "4572\n"
          ]
        }
      ]
    },
    {
      "cell_type": "code",
      "source": [
        "# print(y)\n",
        "print(y.ndim)\n",
        "y = y.reshape(4572, 1)\n",
        "print(y.ndim)"
      ],
      "metadata": {
        "colab": {
          "base_uri": "https://localhost:8080/"
        },
        "id": "DBSrfXw1qb9r",
        "outputId": "6020f6ce-fd0c-479c-bad3-03605e48bbb6"
      },
      "execution_count": null,
      "outputs": [
        {
          "output_type": "stream",
          "name": "stdout",
          "text": [
            "1\n",
            "2\n"
          ]
        }
      ]
    },
    {
      "cell_type": "markdown",
      "source": [
        "## Taking Care of Missing Data"
      ],
      "metadata": {
        "id": "Y2vwnP--OkmK"
      }
    },
    {
      "cell_type": "code",
      "source": [
        "from sklearn.impute import SimpleImputer\n",
        "imputer = SimpleImputer()\n",
        "imputer1 = SimpleImputer()\n",
        "X[:, 0:3] = imputer.fit_transform(X[:, 0:3])"
      ],
      "metadata": {
        "id": "owA7GEfqOoBe"
      },
      "execution_count": null,
      "outputs": []
    },
    {
      "cell_type": "code",
      "source": [
        "print(X)"
      ],
      "metadata": {
        "colab": {
          "base_uri": "https://localhost:8080/"
        },
        "id": "7eSBu4B-rpB8",
        "outputId": "34b71c2c-a03e-4541-bd18-162abbaf8137"
      },
      "execution_count": null,
      "outputs": [
        {
          "output_type": "stream",
          "name": "stdout",
          "text": [
            "[[16.0 6.566230788 2.907982773 'Mega']\n",
            " [13.0 9.237764567 2.409567204 'Mega']\n",
            " [41.0 15.88644602 2.913410175 'Mega']\n",
            " ...\n",
            " [44.0 19.80007236 5.096191875 'Micro']\n",
            " [71.0 17.5346403 1.94087322 'Macro']\n",
            " [42.0 15.96668752 5.046547629 'Micro']]\n"
          ]
        }
      ]
    },
    {
      "cell_type": "code",
      "source": [
        "print(X.shape)"
      ],
      "metadata": {
        "colab": {
          "base_uri": "https://localhost:8080/"
        },
        "id": "r9wvLILfrzw-",
        "outputId": "fd3778d9-f360-47e6-fb1d-233df5f08ed5"
      },
      "execution_count": null,
      "outputs": [
        {
          "output_type": "stream",
          "name": "stdout",
          "text": [
            "(4572, 4)\n"
          ]
        }
      ]
    },
    {
      "cell_type": "code",
      "source": [
        "# Imputing y values.\n",
        "imputer1 = SimpleImputer(strategy='mean')\n",
        "y = imputer.fit_transform(y)"
      ],
      "metadata": {
        "id": "sx0LqSzzrHMP"
      },
      "execution_count": null,
      "outputs": []
    },
    {
      "cell_type": "code",
      "source": [
        "print(y)"
      ],
      "metadata": {
        "colab": {
          "base_uri": "https://localhost:8080/"
        },
        "id": "BxZnjXnoQEHT",
        "outputId": "b7369f93-2aa4-4752-dba8-77a9c1b13777"
      },
      "execution_count": null,
      "outputs": [
        {
          "output_type": "stream",
          "name": "stdout",
          "text": [
            "[[ 54.73275715]\n",
            " [ 46.67789698]\n",
            " [150.1778288 ]\n",
            " ...\n",
            " [163.6314574 ]\n",
            " [253.6104113 ]\n",
            " [148.2024141 ]]\n"
          ]
        }
      ]
    },
    {
      "cell_type": "code",
      "source": [
        "print(y.shape)"
      ],
      "metadata": {
        "colab": {
          "base_uri": "https://localhost:8080/"
        },
        "id": "oZQPKefJPUbg",
        "outputId": "a9fd5ef1-155f-4d33-f151-26dcbe458743"
      },
      "execution_count": null,
      "outputs": [
        {
          "output_type": "stream",
          "name": "stdout",
          "text": [
            "(4572, 1)\n"
          ]
        }
      ]
    },
    {
      "cell_type": "markdown",
      "source": [
        "## Encoding Categorical data\n"
      ],
      "metadata": {
        "id": "dUckE-o_D0Ke"
      }
    },
    {
      "cell_type": "code",
      "source": [
        "from sklearn.preprocessing import OneHotEncoder\n",
        "from sklearn.compose import ColumnTransformer\n",
        "ct = ColumnTransformer(transformers=[('encode', OneHotEncoder(), [3])], remainder='passthrough')\n",
        "X = ct.fit_transform(X)"
      ],
      "metadata": {
        "id": "IvV4EzS1GNSC"
      },
      "execution_count": null,
      "outputs": []
    },
    {
      "cell_type": "code",
      "source": [
        "print(X)"
      ],
      "metadata": {
        "colab": {
          "base_uri": "https://localhost:8080/"
        },
        "id": "vZlmTwQyHYbX",
        "outputId": "57cf6750-fb81-45c8-ed25-1161a53d151f"
      },
      "execution_count": null,
      "outputs": [
        {
          "output_type": "stream",
          "name": "stdout",
          "text": [
            "[[0.0 1.0 0.0 ... 16.0 6.566230788 2.907982773]\n",
            " [0.0 1.0 0.0 ... 13.0 9.237764567 2.409567204]\n",
            " [0.0 1.0 0.0 ... 41.0 15.88644602 2.913410175]\n",
            " ...\n",
            " [0.0 0.0 1.0 ... 44.0 19.80007236 5.096191875]\n",
            " [1.0 0.0 0.0 ... 71.0 17.5346403 1.94087322]\n",
            " [0.0 0.0 1.0 ... 42.0 15.96668752 5.046547629]]\n"
          ]
        }
      ]
    },
    {
      "cell_type": "markdown",
      "source": [
        "## Spliting the dataset into train and test sets"
      ],
      "metadata": {
        "id": "hGBnv-e6M9iD"
      }
    },
    {
      "cell_type": "code",
      "source": [
        "from sklearn.model_selection import train_test_split\n",
        "X_train, X_test, y_train, y_test = train_test_split(X, y, test_size=0.3, random_state=0)"
      ],
      "metadata": {
        "id": "cmRExJRkNEH_"
      },
      "execution_count": null,
      "outputs": []
    },
    {
      "cell_type": "code",
      "source": [
        "print(X_train)"
      ],
      "metadata": {
        "colab": {
          "base_uri": "https://localhost:8080/"
        },
        "id": "ZKhozN0gNfw5",
        "outputId": "5298fc7c-1901-4706-a3ee-f1bf21111446"
      },
      "execution_count": null,
      "outputs": [
        {
          "output_type": "stream",
          "name": "stdout",
          "text": [
            "[[1.0 0.0 0.0 ... 47.0 15.72822743 2.771904176]\n",
            " [0.0 0.0 1.0 ... 25.0 11.09535068 0.337279593]\n",
            " [1.0 0.0 0.0 ... 16.0 5.768998355 0.167732483]\n",
            " ...\n",
            " [0.0 0.0 0.0 ... 12.0 1.578916632 4.637683176]\n",
            " [0.0 0.0 1.0 ... 39.0 9.429549985 0.617180797]\n",
            " [0.0 0.0 1.0 ... 21.0 4.192298884 1.011604124]]\n"
          ]
        }
      ]
    },
    {
      "cell_type": "code",
      "source": [
        "print(X_test)"
      ],
      "metadata": {
        "colab": {
          "base_uri": "https://localhost:8080/"
        },
        "id": "v5mgwI42Nf33",
        "outputId": "f71fc33d-1bfe-43ac-b607-a595b2c1a79b"
      },
      "execution_count": null,
      "outputs": [
        {
          "output_type": "stream",
          "name": "stdout",
          "text": [
            "[[0.0 0.0 1.0 ... 45.0 17.1275201 1.462856663]\n",
            " [0.0 0.0 0.0 ... 74.0 29.52017002 2.333157382]\n",
            " [0.0 1.0 0.0 ... 84.0 28.25584373 5.699994101]\n",
            " ...\n",
            " [0.0 0.0 1.0 ... 74.0 28.1170026 5.894168882]\n",
            " [0.0 1.0 0.0 ... 66.0 23.16259764 2.051333546]\n",
            " [0.0 0.0 1.0 ... 60.0 11.36731934 0.820350637]]\n"
          ]
        }
      ]
    },
    {
      "cell_type": "code",
      "source": [
        "print(y_train)"
      ],
      "metadata": {
        "colab": {
          "base_uri": "https://localhost:8080/"
        },
        "id": "nU1sZ-0GNf-o",
        "outputId": "b513a9d9-9fe4-4135-e7a1-4390bcc39e5a"
      },
      "execution_count": null,
      "outputs": [
        {
          "output_type": "stream",
          "name": "stdout",
          "text": [
            "[[166.9720246 ]\n",
            " [ 90.70924854]\n",
            " [ 58.28261531]\n",
            " ...\n",
            " [ 41.7006822 ]\n",
            " [138.2677026 ]\n",
            " [ 75.3411398 ]]\n"
          ]
        }
      ]
    },
    {
      "cell_type": "code",
      "source": [
        "print(y_test)"
      ],
      "metadata": {
        "colab": {
          "base_uri": "https://localhost:8080/"
        },
        "id": "dzJ-SghJNgEi",
        "outputId": "b5caf431-ad04-4f1f-f30e-28e9377c2ea1"
      },
      "execution_count": null,
      "outputs": [
        {
          "output_type": "stream",
          "name": "stdout",
          "text": [
            "[[157.65616  ]\n",
            " [264.5922333]\n",
            " [298.8823429]\n",
            " ...\n",
            " [260.1810487]\n",
            " [238.3714378]\n",
            " [213.482651 ]]\n"
          ]
        }
      ]
    },
    {
      "cell_type": "markdown",
      "source": [
        "## Training the multiple linear regression model on training set"
      ],
      "metadata": {
        "id": "niu67fTZNvmo"
      }
    },
    {
      "cell_type": "code",
      "source": [
        "from sklearn.linear_model import LinearRegression\n",
        "regressor = LinearRegression()\n",
        "regressor.fit(X_train, y_train)"
      ],
      "metadata": {
        "colab": {
          "base_uri": "https://localhost:8080/"
        },
        "id": "oMyiIu36N4Ac",
        "outputId": "8e5b20fd-e741-49d1-e8a4-e5ba7abfcdec"
      },
      "execution_count": null,
      "outputs": [
        {
          "output_type": "execute_result",
          "data": {
            "text/plain": [
              "LinearRegression()"
            ]
          },
          "metadata": {},
          "execution_count": 19
        }
      ]
    },
    {
      "cell_type": "markdown",
      "source": [
        "##Predicting the test set results"
      ],
      "metadata": {
        "id": "kXosA-mPypnl"
      }
    },
    {
      "cell_type": "code",
      "source": [
        "y_pred = regressor.predict(X_test)\n",
        "y_pred"
      ],
      "metadata": {
        "colab": {
          "base_uri": "https://localhost:8080/"
        },
        "id": "HJluS6p0yzQ0",
        "outputId": "e33ac2ae-4f37-4654-87e4-b6b1652f2fe9"
      },
      "execution_count": null,
      "outputs": [
        {
          "output_type": "execute_result",
          "data": {
            "text/plain": [
              "array([[160.63808743],\n",
              "       [264.30092753],\n",
              "       [299.41775266],\n",
              "       ...,\n",
              "       [264.40256896],\n",
              "       [235.24337786],\n",
              "       [212.02724325]])"
            ]
          },
          "metadata": {},
          "execution_count": 20
        }
      ]
    },
    {
      "cell_type": "code",
      "source": [
        "# concatenating the values of y_pred and y_test in a 2-D array.\n",
        "print(np.concatenate((y_pred.reshape(len(y_pred),1), y_test.reshape(len(y_test),1)),1))"
      ],
      "metadata": {
        "colab": {
          "base_uri": "https://localhost:8080/"
        },
        "id": "5TLJlYSgz98O",
        "outputId": "020688ab-7363-4d2e-c9e6-c437f42b093f"
      },
      "execution_count": null,
      "outputs": [
        {
          "output_type": "stream",
          "name": "stdout",
          "text": [
            "[[160.63808743 157.65616   ]\n",
            " [264.30092753 264.5922333 ]\n",
            " [299.41775266 298.8823429 ]\n",
            " ...\n",
            " [264.40256896 260.1810487 ]\n",
            " [235.24337786 238.3714378 ]\n",
            " [212.02724325 213.482651  ]]\n"
          ]
        }
      ]
    },
    {
      "cell_type": "markdown",
      "source": [
        "## Predicting a single value"
      ],
      "metadata": {
        "id": "ebZhfG1W2C3j"
      }
    },
    {
      "cell_type": "code",
      "source": [
        "regressor.predict([[0, 0, 1, 0, 17, 9.237764567, 1.40599815]])"
      ],
      "metadata": {
        "colab": {
          "base_uri": "https://localhost:8080/"
        },
        "id": "w9OpRijc2Fm2",
        "outputId": "78d692b3-9982-4e78-8c32-4517b05acf07"
      },
      "execution_count": null,
      "outputs": [
        {
          "output_type": "execute_result",
          "data": {
            "text/plain": [
              "array([[61.29213079]])"
            ]
          },
          "metadata": {},
          "execution_count": 22
        }
      ]
    },
    {
      "cell_type": "markdown",
      "source": [
        "##Getting the value of coefficent and intercept of the trained model"
      ],
      "metadata": {
        "id": "unf7yV613hm0"
      }
    },
    {
      "cell_type": "code",
      "source": [
        "print(f\"Coefficient: {regressor.coef_}\")\n",
        "print(f\"Intercept: {regressor.intercept_}\")"
      ],
      "metadata": {
        "colab": {
          "base_uri": "https://localhost:8080/"
        },
        "id": "YAXwIvrb3y-X",
        "outputId": "da2aaa7b-fb0b-4663-8a40-5d975af9efad"
      },
      "execution_count": null,
      "outputs": [
        {
          "output_type": "stream",
          "name": "stdout",
          "text": [
            "Coefficient: [[-0.38970715  0.16574184  0.13698929  0.08697602  3.49781683  0.17773415\n",
            "   0.08453186]]\n",
            "Intercept: [-0.06846253]\n"
          ]
        }
      ]
    },
    {
      "cell_type": "markdown",
      "source": [
        "Therefore, the equation of our multiple linear regression model is:\n",
        "-0.38970715  0.16574184  0.13698929  0.08697602  3.49781683  0.17773415\n",
        "   0.08453186\n",
        "$$\\textrm{Sales} =  -0.06846253 - 0.38970715 \\times \\textrm{Dummy State 1} + 0.16574184 \\times \\textrm{Dummy State 2} + 0.13698929 \\times \\textrm{Dummy State 3} + 0.08697602 \\times \\textrm{Dummy State 4} + 3.49781683 \\times \\textrm{TV} + 0.17773415 \\times \\textrm{Radio} + 0.08453186 \\times \\textrm{Social Media}$$"
      ],
      "metadata": {
        "id": "EQPXLDIQ7zgj"
      }
    },
    {
      "cell_type": "markdown",
      "source": [
        "##Testing the accuracy of the model"
      ],
      "metadata": {
        "id": "IIq6qVHi4RR7"
      }
    },
    {
      "cell_type": "code",
      "source": [
        "from sklearn.metrics import r2_score\n",
        "r2_score(y_test, y_pred)"
      ],
      "metadata": {
        "colab": {
          "base_uri": "https://localhost:8080/"
        },
        "id": "h5Ar0Cq74ULX",
        "outputId": "e7ce87a6-4956-4c05-98db-603fd163bd12"
      },
      "execution_count": null,
      "outputs": [
        {
          "output_type": "execute_result",
          "data": {
            "text/plain": [
              "0.9949051741337412"
            ]
          },
          "metadata": {},
          "execution_count": 24
        }
      ]
    }
  ]
}